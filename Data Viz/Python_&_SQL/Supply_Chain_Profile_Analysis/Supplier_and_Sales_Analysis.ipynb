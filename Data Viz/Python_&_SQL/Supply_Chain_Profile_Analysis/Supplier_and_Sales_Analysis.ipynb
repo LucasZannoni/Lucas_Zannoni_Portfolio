{
 "cells": [
  {
   "cell_type": "markdown",
   "metadata": {},
   "source": [
    "HELLO,\n",
    "\n",
    "IN THIS PROJECT I'LL PROPOSE AN ANALYSIS ON AN HIPOTETICAL SUPPLY-CHAIN DATABASE IN ORDER TO IDENTIFY OPPORTUNITIES FOR THE COMPANY AND THE SUPPLY BASE. \n",
    "\n",
    "MY MAIN GOALS HERE GENERATE SEMI-RANDOM DATABASES FOR SUPPLIERS, SALES AND PRODUCTS, JOIN THEM AS NECESSARY AND EXPLORE, CLEANSE AND ANALYSE THIS DATA, BRINGING AS MANY INSIGHTS AS POSSIBLE IN ORDER TO BETTER UNDERSTAND THIS COMPANY'S SUPPLYING BEHAVIOR PATTERN AND DISPLAY THESE INSIGHTS WITH EASY-TO-UNDERSTAND VISUALIZATION, ALSO COMMENTING WITH MY OWN CONCLUSIONS ABOUT THE GENERATED DATA.\n",
    "\n",
    "HOPE YOU'LL ENJOY IT."
   ]
  },
  {
   "cell_type": "markdown",
   "metadata": {},
   "source": [
    "IMPORTING THE NECESSARY PYTHON LIBRARIES:"
   ]
  },
  {
   "cell_type": "code",
   "execution_count": 15,
   "metadata": {},
   "outputs": [],
   "source": [
    "##Import Libraries\n",
    "\n",
    "import pandas as pd\n",
    "import matplotlib.pyplot as plt\n",
    "import numpy as np\n",
    "import seaborn as sb\n",
    "from pandasql import sqldf\n",
    "import glob\n",
    "import os.path\n",
    "from datetime import date\n",
    "import win32com.client as win32\n",
    "\n",
    "from datetime import date, timedelta\n",
    "from random import choices\n",
    "import plotly.express as px"
   ]
  },
  {
   "cell_type": "markdown",
   "metadata": {},
   "source": [
    "SETTING THINGS UP IN ORDER TO GENERATE THE DATABASES!"
   ]
  },
  {
   "cell_type": "code",
   "execution_count": 16,
   "metadata": {},
   "outputs": [],
   "source": [
    "##List of Countries-Continents\n",
    "\n",
    "##HERE I'LL DEFINE SOME BASE LISTS SO I CAN USE THEM TO GENERATE SEMI-RANDOM DATAFRAMES\n",
    "\n",
    "continents = {'1':'Africa',\n",
    "'2':'Africa',\n",
    "'3':'Africa',\n",
    "'4':'Africa',\n",
    "'5':'Africa',\n",
    "'6':'South America',\n",
    "'7':'South America',\n",
    "'8':'South America',\n",
    "'9':'South America',\n",
    "'10':'South America',\n",
    "'11':'North America',\n",
    "'12':'North America',\n",
    "'13':'North America',\n",
    "'16':'Europe',\n",
    "'17':'Europe',\n",
    "'18':'Europe',\n",
    "'19':'Europe',\n",
    "'20':'Europe',\n",
    "'21':'Asia',\n",
    "'22':'Asia',\n",
    "'23':'Asia',\n",
    "'24':'Asia',\n",
    "'25':'Asia'\n",
    "\n",
    "                }\n",
    "\n",
    "countries = {'1':'Ghana',\n",
    "'2':'Cameroon',\n",
    "'3':'South Africa',\n",
    "'4':'Nigeria',\n",
    "'5':'Morocco',\n",
    "'6':'Brazil',\n",
    "'7':'Argentina',\n",
    "'8':'Chile',\n",
    "'9':'Uruguay',\n",
    "'10':'Paraguay',\n",
    "'11':'USA',\n",
    "'12':'Canada',\n",
    "'13':'Mexico',\n",
    "'16':'Italy',\n",
    "'17':'Spain',\n",
    "'18':'Portugal',\n",
    "'19':'France',\n",
    "'20':'Russia',\n",
    "'21':'China',\n",
    "'22':'Japan',\n",
    "'23':'South Korea',\n",
    "'24':'North Korea',\n",
    "'25':'India'\n",
    "\n",
    "\n",
    "\n",
    "\n",
    "\n",
    "\n",
    "}\n",
    "companies_contracts = {\n",
    "            'Company 1':'Contract 1',\n",
    "            'Company 2':'Contract 2',\n",
    "            'Company 3':'Contract 3',\n",
    "            'Company 4':'Contract 4',\n",
    "            'Company 5':'Contract 5',\n",
    "            'Company 6':'Contract 6',\n",
    "            'Company 7':'Contract 7',\n",
    "            'Company 8':'Contract 8',\n",
    "            'Company 9':'Contract 9',\n",
    "            'Company 10':'Contract 10',\n",
    "            'Company 11':'Contract 11',\n",
    "            'Company 12':'Contract 12',\n",
    "            'Company 13':'Contract 13',\n",
    "            'Company 14':'Contract 14',\n",
    "            'Company 15':'Contract 15',\n",
    "            'Company 16':'Contract 16',\n",
    "            'Company 17':'Contract 17',\n",
    "            'Company 18':'Contract 18',\n",
    "            'Company 19':'Contract 19',\n",
    "            'Company 20':'Contract 20'\n",
    "\n",
    "\n",
    "}\n",
    "\n",
    "units= {'Unit 1', 'Unit 2', 'Unit 3', 'Unit 4','Unit 5'}\n",
    "\n",
    "\n",
    "product_per_contract = {\n",
    "\n",
    "            'Contract 1':'Product 1',\n",
    "            'Contract 2':'Product 2',\n",
    "            'Contract 3':'Product 3',\n",
    "            'Contract 4':'Product 4',\n",
    "            'Contract 5':'Product 5',\n",
    "            'Contract 6':'Product 6',\n",
    "            'Contract 7':'Product 7',\n",
    "            'Contract 8':'Product 8',\n",
    "            'Contract 9':'Product 9',\n",
    "            'Contract 10':'Product 10',\n",
    "            'Contract 11':'Product 11',\n",
    "            'Contract 12':'Product 12',\n",
    "            'Contract 13':'Product 13',\n",
    "            'Contract 14':'Product 14',\n",
    "            'Contract 15':'Product 15',\n",
    "            'Contract 16':'Product 16',\n",
    "            'Contract 17':'Product 17',\n",
    "            'Contract 18':'Product 18',\n",
    "            'Contract 19':'Product 19',\n",
    "            'Contract 20':'Product 20'\n",
    "\n",
    "\n",
    "\n",
    "}"
   ]
  },
  {
   "cell_type": "code",
   "execution_count": 17,
   "metadata": {},
   "outputs": [
    {
     "data": {
      "text/html": [
       "<div>\n",
       "<style scoped>\n",
       "    .dataframe tbody tr th:only-of-type {\n",
       "        vertical-align: middle;\n",
       "    }\n",
       "\n",
       "    .dataframe tbody tr th {\n",
       "        vertical-align: top;\n",
       "    }\n",
       "\n",
       "    .dataframe thead th {\n",
       "        text-align: right;\n",
       "    }\n",
       "</style>\n",
       "<table border=\"1\" class=\"dataframe\">\n",
       "  <thead>\n",
       "    <tr style=\"text-align: right;\">\n",
       "      <th></th>\n",
       "      <th>Goods Receipt Time</th>\n",
       "      <th>Cont_Index</th>\n",
       "      <th>Continent</th>\n",
       "      <th>Country</th>\n",
       "      <th>Company</th>\n",
       "      <th>Contract</th>\n",
       "    </tr>\n",
       "  </thead>\n",
       "  <tbody>\n",
       "    <tr>\n",
       "      <th>0</th>\n",
       "      <td>71</td>\n",
       "      <td>4</td>\n",
       "      <td>Africa</td>\n",
       "      <td>Nigeria</td>\n",
       "      <td>Company 6</td>\n",
       "      <td>Contract 6</td>\n",
       "    </tr>\n",
       "    <tr>\n",
       "      <th>1</th>\n",
       "      <td>40</td>\n",
       "      <td>11</td>\n",
       "      <td>North America</td>\n",
       "      <td>USA</td>\n",
       "      <td>Company 17</td>\n",
       "      <td>Contract 17</td>\n",
       "    </tr>\n",
       "    <tr>\n",
       "      <th>2</th>\n",
       "      <td>82</td>\n",
       "      <td>10</td>\n",
       "      <td>South America</td>\n",
       "      <td>Paraguay</td>\n",
       "      <td>Company 15</td>\n",
       "      <td>Contract 15</td>\n",
       "    </tr>\n",
       "    <tr>\n",
       "      <th>3</th>\n",
       "      <td>86</td>\n",
       "      <td>9</td>\n",
       "      <td>South America</td>\n",
       "      <td>Uruguay</td>\n",
       "      <td>Company 18</td>\n",
       "      <td>Contract 18</td>\n",
       "    </tr>\n",
       "    <tr>\n",
       "      <th>4</th>\n",
       "      <td>63</td>\n",
       "      <td>10</td>\n",
       "      <td>South America</td>\n",
       "      <td>Paraguay</td>\n",
       "      <td>Company 12</td>\n",
       "      <td>Contract 12</td>\n",
       "    </tr>\n",
       "    <tr>\n",
       "      <th>...</th>\n",
       "      <td>...</td>\n",
       "      <td>...</td>\n",
       "      <td>...</td>\n",
       "      <td>...</td>\n",
       "      <td>...</td>\n",
       "      <td>...</td>\n",
       "    </tr>\n",
       "    <tr>\n",
       "      <th>95</th>\n",
       "      <td>89</td>\n",
       "      <td>6</td>\n",
       "      <td>South America</td>\n",
       "      <td>Brazil</td>\n",
       "      <td>Company 11</td>\n",
       "      <td>Contract 11</td>\n",
       "    </tr>\n",
       "    <tr>\n",
       "      <th>96</th>\n",
       "      <td>79</td>\n",
       "      <td>9</td>\n",
       "      <td>South America</td>\n",
       "      <td>Uruguay</td>\n",
       "      <td>Company 20</td>\n",
       "      <td>Contract 20</td>\n",
       "    </tr>\n",
       "    <tr>\n",
       "      <th>97</th>\n",
       "      <td>42</td>\n",
       "      <td>11</td>\n",
       "      <td>North America</td>\n",
       "      <td>USA</td>\n",
       "      <td>Company 15</td>\n",
       "      <td>Contract 15</td>\n",
       "    </tr>\n",
       "    <tr>\n",
       "      <th>98</th>\n",
       "      <td>71</td>\n",
       "      <td>23</td>\n",
       "      <td>Asia</td>\n",
       "      <td>South Korea</td>\n",
       "      <td>Company 16</td>\n",
       "      <td>Contract 16</td>\n",
       "    </tr>\n",
       "    <tr>\n",
       "      <th>99</th>\n",
       "      <td>44</td>\n",
       "      <td>8</td>\n",
       "      <td>South America</td>\n",
       "      <td>Chile</td>\n",
       "      <td>Company 16</td>\n",
       "      <td>Contract 16</td>\n",
       "    </tr>\n",
       "  </tbody>\n",
       "</table>\n",
       "<p>100 rows × 6 columns</p>\n",
       "</div>"
      ],
      "text/plain": [
       "    Goods Receipt Time Cont_Index      Continent      Country     Company  \\\n",
       "0                   71          4         Africa      Nigeria   Company 6   \n",
       "1                   40         11  North America          USA  Company 17   \n",
       "2                   82         10  South America     Paraguay  Company 15   \n",
       "3                   86          9  South America      Uruguay  Company 18   \n",
       "4                   63         10  South America     Paraguay  Company 12   \n",
       "..                 ...        ...            ...          ...         ...   \n",
       "95                  89          6  South America       Brazil  Company 11   \n",
       "96                  79          9  South America      Uruguay  Company 20   \n",
       "97                  42         11  North America          USA  Company 15   \n",
       "98                  71         23           Asia  South Korea  Company 16   \n",
       "99                  44          8  South America        Chile  Company 16   \n",
       "\n",
       "       Contract  \n",
       "0    Contract 6  \n",
       "1   Contract 17  \n",
       "2   Contract 15  \n",
       "3   Contract 18  \n",
       "4   Contract 12  \n",
       "..          ...  \n",
       "95  Contract 11  \n",
       "96  Contract 20  \n",
       "97  Contract 15  \n",
       "98  Contract 16  \n",
       "99  Contract 16  \n",
       "\n",
       "[100 rows x 6 columns]"
      ]
     },
     "metadata": {},
     "output_type": "display_data"
    }
   ],
   "source": [
    "##Creates Supplier df\n",
    "\n",
    "##NOW I'LL USE THOSE LISTS TO CREATE THE SUPPLIERS DATAFRAME\n",
    "##THIS WILL SERVE AS THE COMPANIES SUPPLIER BASE, WITH EACH SUPPLIERS BASIC INFO\n",
    "\n",
    "supplier_df =  pd.DataFrame(np.random.randint(35,100,size=(100, 1)), columns=['Goods Receipt Time'])\n",
    "\n",
    "##Gets location info\n",
    "supplier_df['Cont_Index'] = np.random.choice(list(continents), len(supplier_df))\n",
    "supplier_df['Continent'] = supplier_df['Cont_Index'].map(continents)\n",
    "supplier_df['Country'] = supplier_df['Cont_Index'].map(countries)\n",
    "\n",
    "##Gets company and contract info\n",
    "supplier_df['Company']   = np.random.choice(list(companies_contracts), len(supplier_df))\n",
    "supplier_df['Contract'] = supplier_df['Company'].map(companies_contracts)\n",
    "\n",
    "display(supplier_df)"
   ]
  },
  {
   "cell_type": "code",
   "execution_count": 18,
   "metadata": {},
   "outputs": [],
   "source": [
    "##Generate random dates\n",
    " \n",
    "# initializing dates ranges\n",
    "test_date1, test_date2 = date(2023, 1, 1), date(2023, 7, 1)\n",
    " \n",
    " \n",
    "# initializing K\n",
    "K = 20\n",
    " \n",
    "res_dates = [test_date1]\n",
    " \n",
    "# loop to get each date till end date\n",
    "while test_date1 != test_date2:\n",
    "    test_date1 += timedelta(days=1)\n",
    "    res_dates.append(test_date1)\n",
    " \n",
    "# random K dates from pack\n",
    "res = choices(res_dates, k=K)\n",
    " "
   ]
  },
  {
   "cell_type": "code",
   "execution_count": 19,
   "metadata": {},
   "outputs": [
    {
     "data": {
      "text/html": [
       "<div>\n",
       "<style scoped>\n",
       "    .dataframe tbody tr th:only-of-type {\n",
       "        vertical-align: middle;\n",
       "    }\n",
       "\n",
       "    .dataframe tbody tr th {\n",
       "        vertical-align: top;\n",
       "    }\n",
       "\n",
       "    .dataframe thead th {\n",
       "        text-align: right;\n",
       "    }\n",
       "</style>\n",
       "<table border=\"1\" class=\"dataframe\">\n",
       "  <thead>\n",
       "    <tr style=\"text-align: right;\">\n",
       "      <th></th>\n",
       "      <th>Sales Qty</th>\n",
       "      <th>Contract</th>\n",
       "      <th>Product</th>\n",
       "      <th>Ship Date</th>\n",
       "      <th>Internal Unit</th>\n",
       "    </tr>\n",
       "  </thead>\n",
       "  <tbody>\n",
       "    <tr>\n",
       "      <th>0</th>\n",
       "      <td>951</td>\n",
       "      <td>Contract 16</td>\n",
       "      <td>Product 16</td>\n",
       "      <td>2023-04-03</td>\n",
       "      <td>Unit 3</td>\n",
       "    </tr>\n",
       "    <tr>\n",
       "      <th>1</th>\n",
       "      <td>768</td>\n",
       "      <td>Contract 12</td>\n",
       "      <td>Product 12</td>\n",
       "      <td>2023-02-20</td>\n",
       "      <td>Unit 2</td>\n",
       "    </tr>\n",
       "    <tr>\n",
       "      <th>2</th>\n",
       "      <td>771</td>\n",
       "      <td>Contract 16</td>\n",
       "      <td>Product 16</td>\n",
       "      <td>2023-05-14</td>\n",
       "      <td>Unit 2</td>\n",
       "    </tr>\n",
       "    <tr>\n",
       "      <th>3</th>\n",
       "      <td>291</td>\n",
       "      <td>Contract 10</td>\n",
       "      <td>Product 10</td>\n",
       "      <td>2023-01-11</td>\n",
       "      <td>Unit 1</td>\n",
       "    </tr>\n",
       "    <tr>\n",
       "      <th>4</th>\n",
       "      <td>722</td>\n",
       "      <td>Contract 16</td>\n",
       "      <td>Product 16</td>\n",
       "      <td>2023-04-05</td>\n",
       "      <td>Unit 4</td>\n",
       "    </tr>\n",
       "    <tr>\n",
       "      <th>...</th>\n",
       "      <td>...</td>\n",
       "      <td>...</td>\n",
       "      <td>...</td>\n",
       "      <td>...</td>\n",
       "      <td>...</td>\n",
       "    </tr>\n",
       "    <tr>\n",
       "      <th>4995</th>\n",
       "      <td>798</td>\n",
       "      <td>Contract 5</td>\n",
       "      <td>Product 5</td>\n",
       "      <td>2023-03-20</td>\n",
       "      <td>Unit 2</td>\n",
       "    </tr>\n",
       "    <tr>\n",
       "      <th>4996</th>\n",
       "      <td>7</td>\n",
       "      <td>Contract 13</td>\n",
       "      <td>Product 13</td>\n",
       "      <td>2023-03-20</td>\n",
       "      <td>Unit 2</td>\n",
       "    </tr>\n",
       "    <tr>\n",
       "      <th>4997</th>\n",
       "      <td>408</td>\n",
       "      <td>Contract 9</td>\n",
       "      <td>Product 9</td>\n",
       "      <td>2023-03-12</td>\n",
       "      <td>Unit 1</td>\n",
       "    </tr>\n",
       "    <tr>\n",
       "      <th>4998</th>\n",
       "      <td>622</td>\n",
       "      <td>Contract 4</td>\n",
       "      <td>Product 4</td>\n",
       "      <td>2023-04-03</td>\n",
       "      <td>Unit 2</td>\n",
       "    </tr>\n",
       "    <tr>\n",
       "      <th>4999</th>\n",
       "      <td>992</td>\n",
       "      <td>Contract 16</td>\n",
       "      <td>Product 16</td>\n",
       "      <td>2023-01-11</td>\n",
       "      <td>Unit 1</td>\n",
       "    </tr>\n",
       "  </tbody>\n",
       "</table>\n",
       "<p>5000 rows × 5 columns</p>\n",
       "</div>"
      ],
      "text/plain": [
       "      Sales Qty     Contract     Product   Ship Date Internal Unit\n",
       "0           951  Contract 16  Product 16  2023-04-03        Unit 3\n",
       "1           768  Contract 12  Product 12  2023-02-20        Unit 2\n",
       "2           771  Contract 16  Product 16  2023-05-14        Unit 2\n",
       "3           291  Contract 10  Product 10  2023-01-11        Unit 1\n",
       "4           722  Contract 16  Product 16  2023-04-05        Unit 4\n",
       "...         ...          ...         ...         ...           ...\n",
       "4995        798   Contract 5   Product 5  2023-03-20        Unit 2\n",
       "4996          7  Contract 13  Product 13  2023-03-20        Unit 2\n",
       "4997        408   Contract 9   Product 9  2023-03-12        Unit 1\n",
       "4998        622   Contract 4   Product 4  2023-04-03        Unit 2\n",
       "4999        992  Contract 16  Product 16  2023-01-11        Unit 1\n",
       "\n",
       "[5000 rows x 5 columns]"
      ]
     },
     "metadata": {},
     "output_type": "display_data"
    }
   ],
   "source": [
    "##Create Sales DF\n",
    "\n",
    "sales_df =  pd.DataFrame(np.random.randint(0,1000,size=(5000, 1)), columns=['Sales Qty'])\n",
    "sales_df['Contract'] = np.random.choice(supplier_df['Contract'], len(sales_df))\n",
    "sales_df['Product'] = sales_df['Contract'].map(product_per_contract)\n",
    "\n",
    "##Generates semi-random shipdate\n",
    "sales_df['Ship Date'] = np.random.choice(list(res), len(sales_df))\n",
    "\n",
    "\n",
    "##GENERATES CONTRACT UNIT\n",
    "sales_df['Internal Unit'] = np.random.randint(1, 5, sales_df.shape[0])\n",
    "sales_df['Internal Unit'] = 'Unit ' + sales_df['Internal Unit'].astype(str)\n",
    "\n",
    "\n",
    "display(sales_df)"
   ]
  },
  {
   "cell_type": "code",
   "execution_count": 20,
   "metadata": {},
   "outputs": [
    {
     "data": {
      "text/html": [
       "<div>\n",
       "<style scoped>\n",
       "    .dataframe tbody tr th:only-of-type {\n",
       "        vertical-align: middle;\n",
       "    }\n",
       "\n",
       "    .dataframe tbody tr th {\n",
       "        vertical-align: top;\n",
       "    }\n",
       "\n",
       "    .dataframe thead th {\n",
       "        text-align: right;\n",
       "    }\n",
       "</style>\n",
       "<table border=\"1\" class=\"dataframe\">\n",
       "  <thead>\n",
       "    <tr style=\"text-align: right;\">\n",
       "      <th></th>\n",
       "      <th>Products</th>\n",
       "      <th>Internal Buyer</th>\n",
       "      <th>Market Value</th>\n",
       "      <th>Planning Type</th>\n",
       "      <th>Safety Stock</th>\n",
       "      <th>Item Category</th>\n",
       "      <th>Weight</th>\n",
       "      <th>Volume</th>\n",
       "    </tr>\n",
       "  </thead>\n",
       "  <tbody>\n",
       "    <tr>\n",
       "      <th>0</th>\n",
       "      <td>Product 1</td>\n",
       "      <td>Person 10</td>\n",
       "      <td>468.525369</td>\n",
       "      <td>Type 2</td>\n",
       "      <td>18</td>\n",
       "      <td>1</td>\n",
       "      <td>3.326435</td>\n",
       "      <td>0.281196</td>\n",
       "    </tr>\n",
       "    <tr>\n",
       "      <th>1</th>\n",
       "      <td>Product 2</td>\n",
       "      <td>Person 1</td>\n",
       "      <td>406.016718</td>\n",
       "      <td>Type 2</td>\n",
       "      <td>15</td>\n",
       "      <td>1</td>\n",
       "      <td>1.896459</td>\n",
       "      <td>0.064240</td>\n",
       "    </tr>\n",
       "    <tr>\n",
       "      <th>2</th>\n",
       "      <td>Product 3</td>\n",
       "      <td>Person 3</td>\n",
       "      <td>1385.593578</td>\n",
       "      <td>Type 2</td>\n",
       "      <td>11</td>\n",
       "      <td>1</td>\n",
       "      <td>3.142301</td>\n",
       "      <td>0.944588</td>\n",
       "    </tr>\n",
       "    <tr>\n",
       "      <th>3</th>\n",
       "      <td>Product 4</td>\n",
       "      <td>Person 3</td>\n",
       "      <td>1151.981356</td>\n",
       "      <td>Type 2</td>\n",
       "      <td>2</td>\n",
       "      <td>1</td>\n",
       "      <td>19.038246</td>\n",
       "      <td>0.127221</td>\n",
       "    </tr>\n",
       "    <tr>\n",
       "      <th>4</th>\n",
       "      <td>Product 5</td>\n",
       "      <td>Person 8</td>\n",
       "      <td>1771.338966</td>\n",
       "      <td>Type 1</td>\n",
       "      <td>7</td>\n",
       "      <td>2</td>\n",
       "      <td>12.973698</td>\n",
       "      <td>0.807112</td>\n",
       "    </tr>\n",
       "    <tr>\n",
       "      <th>5</th>\n",
       "      <td>Product 6</td>\n",
       "      <td>Person 10</td>\n",
       "      <td>1125.903970</td>\n",
       "      <td>Type 1</td>\n",
       "      <td>14</td>\n",
       "      <td>2</td>\n",
       "      <td>9.189370</td>\n",
       "      <td>0.720350</td>\n",
       "    </tr>\n",
       "    <tr>\n",
       "      <th>6</th>\n",
       "      <td>Product 7</td>\n",
       "      <td>Person 10</td>\n",
       "      <td>1041.041958</td>\n",
       "      <td>Type 1</td>\n",
       "      <td>2</td>\n",
       "      <td>2</td>\n",
       "      <td>17.807103</td>\n",
       "      <td>0.638548</td>\n",
       "    </tr>\n",
       "    <tr>\n",
       "      <th>7</th>\n",
       "      <td>Product 8</td>\n",
       "      <td>Person 1</td>\n",
       "      <td>529.083425</td>\n",
       "      <td>Type 2</td>\n",
       "      <td>1</td>\n",
       "      <td>1</td>\n",
       "      <td>10.803990</td>\n",
       "      <td>0.374926</td>\n",
       "    </tr>\n",
       "    <tr>\n",
       "      <th>8</th>\n",
       "      <td>Product 9</td>\n",
       "      <td>Person 5</td>\n",
       "      <td>379.479938</td>\n",
       "      <td>Type 1</td>\n",
       "      <td>4</td>\n",
       "      <td>1</td>\n",
       "      <td>15.617518</td>\n",
       "      <td>0.153131</td>\n",
       "    </tr>\n",
       "    <tr>\n",
       "      <th>9</th>\n",
       "      <td>Product 10</td>\n",
       "      <td>Person 10</td>\n",
       "      <td>985.776519</td>\n",
       "      <td>Type 1</td>\n",
       "      <td>10</td>\n",
       "      <td>1</td>\n",
       "      <td>18.943830</td>\n",
       "      <td>0.615542</td>\n",
       "    </tr>\n",
       "    <tr>\n",
       "      <th>10</th>\n",
       "      <td>Product 11</td>\n",
       "      <td>Person 5</td>\n",
       "      <td>177.686832</td>\n",
       "      <td>Type 2</td>\n",
       "      <td>14</td>\n",
       "      <td>1</td>\n",
       "      <td>15.087013</td>\n",
       "      <td>0.041502</td>\n",
       "    </tr>\n",
       "    <tr>\n",
       "      <th>11</th>\n",
       "      <td>Product 12</td>\n",
       "      <td>Person 4</td>\n",
       "      <td>1122.066907</td>\n",
       "      <td>Type 2</td>\n",
       "      <td>3</td>\n",
       "      <td>1</td>\n",
       "      <td>11.503311</td>\n",
       "      <td>0.813544</td>\n",
       "    </tr>\n",
       "    <tr>\n",
       "      <th>12</th>\n",
       "      <td>Product 13</td>\n",
       "      <td>Person 6</td>\n",
       "      <td>870.411244</td>\n",
       "      <td>Type 2</td>\n",
       "      <td>1</td>\n",
       "      <td>1</td>\n",
       "      <td>1.644976</td>\n",
       "      <td>0.310803</td>\n",
       "    </tr>\n",
       "    <tr>\n",
       "      <th>13</th>\n",
       "      <td>Product 14</td>\n",
       "      <td>Person 10</td>\n",
       "      <td>1652.078774</td>\n",
       "      <td>Type 3</td>\n",
       "      <td>8</td>\n",
       "      <td>1</td>\n",
       "      <td>15.958961</td>\n",
       "      <td>0.845243</td>\n",
       "    </tr>\n",
       "    <tr>\n",
       "      <th>14</th>\n",
       "      <td>Product 15</td>\n",
       "      <td>Person 3</td>\n",
       "      <td>156.855133</td>\n",
       "      <td>Type 3</td>\n",
       "      <td>15</td>\n",
       "      <td>1</td>\n",
       "      <td>2.721140</td>\n",
       "      <td>0.470801</td>\n",
       "    </tr>\n",
       "    <tr>\n",
       "      <th>15</th>\n",
       "      <td>Product 16</td>\n",
       "      <td>Person 2</td>\n",
       "      <td>684.426256</td>\n",
       "      <td>Type 1</td>\n",
       "      <td>12</td>\n",
       "      <td>2</td>\n",
       "      <td>13.741664</td>\n",
       "      <td>0.591118</td>\n",
       "    </tr>\n",
       "    <tr>\n",
       "      <th>16</th>\n",
       "      <td>Product 17</td>\n",
       "      <td>Person 4</td>\n",
       "      <td>1749.878185</td>\n",
       "      <td>Type 3</td>\n",
       "      <td>0</td>\n",
       "      <td>2</td>\n",
       "      <td>5.184069</td>\n",
       "      <td>0.973581</td>\n",
       "    </tr>\n",
       "    <tr>\n",
       "      <th>17</th>\n",
       "      <td>Product 18</td>\n",
       "      <td>Person 7</td>\n",
       "      <td>646.297998</td>\n",
       "      <td>Type 3</td>\n",
       "      <td>2</td>\n",
       "      <td>2</td>\n",
       "      <td>6.014262</td>\n",
       "      <td>0.910947</td>\n",
       "    </tr>\n",
       "    <tr>\n",
       "      <th>18</th>\n",
       "      <td>Product 19</td>\n",
       "      <td>Person 5</td>\n",
       "      <td>1894.210165</td>\n",
       "      <td>Type 1</td>\n",
       "      <td>0</td>\n",
       "      <td>1</td>\n",
       "      <td>7.676272</td>\n",
       "      <td>0.606889</td>\n",
       "    </tr>\n",
       "    <tr>\n",
       "      <th>19</th>\n",
       "      <td>Product 20</td>\n",
       "      <td>Person 4</td>\n",
       "      <td>1574.119963</td>\n",
       "      <td>Type 2</td>\n",
       "      <td>19</td>\n",
       "      <td>2</td>\n",
       "      <td>2.914988</td>\n",
       "      <td>0.407487</td>\n",
       "    </tr>\n",
       "  </tbody>\n",
       "</table>\n",
       "</div>"
      ],
      "text/plain": [
       "      Products Internal Buyer  Market Value Planning Type  Safety Stock  \\\n",
       "0    Product 1      Person 10    468.525369        Type 2            18   \n",
       "1    Product 2       Person 1    406.016718        Type 2            15   \n",
       "2    Product 3       Person 3   1385.593578        Type 2            11   \n",
       "3    Product 4       Person 3   1151.981356        Type 2             2   \n",
       "4    Product 5       Person 8   1771.338966        Type 1             7   \n",
       "5    Product 6      Person 10   1125.903970        Type 1            14   \n",
       "6    Product 7      Person 10   1041.041958        Type 1             2   \n",
       "7    Product 8       Person 1    529.083425        Type 2             1   \n",
       "8    Product 9       Person 5    379.479938        Type 1             4   \n",
       "9   Product 10      Person 10    985.776519        Type 1            10   \n",
       "10  Product 11       Person 5    177.686832        Type 2            14   \n",
       "11  Product 12       Person 4   1122.066907        Type 2             3   \n",
       "12  Product 13       Person 6    870.411244        Type 2             1   \n",
       "13  Product 14      Person 10   1652.078774        Type 3             8   \n",
       "14  Product 15       Person 3    156.855133        Type 3            15   \n",
       "15  Product 16       Person 2    684.426256        Type 1            12   \n",
       "16  Product 17       Person 4   1749.878185        Type 3             0   \n",
       "17  Product 18       Person 7    646.297998        Type 3             2   \n",
       "18  Product 19       Person 5   1894.210165        Type 1             0   \n",
       "19  Product 20       Person 4   1574.119963        Type 2            19   \n",
       "\n",
       "    Item Category     Weight    Volume  \n",
       "0               1   3.326435  0.281196  \n",
       "1               1   1.896459  0.064240  \n",
       "2               1   3.142301  0.944588  \n",
       "3               1  19.038246  0.127221  \n",
       "4               2  12.973698  0.807112  \n",
       "5               2   9.189370  0.720350  \n",
       "6               2  17.807103  0.638548  \n",
       "7               1  10.803990  0.374926  \n",
       "8               1  15.617518  0.153131  \n",
       "9               1  18.943830  0.615542  \n",
       "10              1  15.087013  0.041502  \n",
       "11              1  11.503311  0.813544  \n",
       "12              1   1.644976  0.310803  \n",
       "13              1  15.958961  0.845243  \n",
       "14              1   2.721140  0.470801  \n",
       "15              2  13.741664  0.591118  \n",
       "16              2   5.184069  0.973581  \n",
       "17              2   6.014262  0.910947  \n",
       "18              1   7.676272  0.606889  \n",
       "19              2   2.914988  0.407487  "
      ]
     },
     "metadata": {},
     "output_type": "display_data"
    }
   ],
   "source": [
    "##Create Product Database\n",
    "\n",
    "#Turns products list into DF so I can append the product information into it\n",
    "productb_df = pd.DataFrame([product_per_contract])\n",
    "productb_df = pd.DataFrame(productb_df.values)\n",
    "productb_df = productb_df.T\n",
    "productb_df.rename(columns={ productb_df.columns[0]: \"Products\" }, inplace = True)\n",
    "\n",
    "## Defines Random Internal buyer\n",
    "productb_df['Internal Buyer'] = np.random.randint(1, 11, productb_df.shape[0])\n",
    "productb_df['Internal Buyer'] = 'Person ' + productb_df['Internal Buyer'].astype(str)\n",
    "\n",
    "##Appends Market Value to the products\n",
    "productb_df['Market Value'] = np.random.uniform(low=25, high=2000, size=(productb_df.shape[0],))\n",
    "\n",
    "\n",
    "##Appends Planning Type To the Itens\n",
    "\n",
    "productb_df['Planning Type'] =np.random.choice(['Type 1','Type 2','Type 3'],len(productb_df))\n",
    "\n",
    "##Adds Safety Stock\n",
    "\n",
    "productb_df['Safety Stock'] = np.random.randint(0,20,size=(len(productb_df), 1))\n",
    "\n",
    "\n",
    "##Adds item category\n",
    "\n",
    "productb_df['Item Category'] = np.random.randint(1,3,size=(len(productb_df), 1))\n",
    "\n",
    "##Appends Item Weight [KG]\n",
    "productb_df['Weight'] = np.random.uniform(low=1.5, high=20, size=(productb_df.shape[0],))\n",
    "\n",
    "##Appends Item Volume [m³]\n",
    "productb_df['Volume'] = np.random.uniform(low=0.01, high=1, size=(productb_df.shape[0],))\n",
    "\n",
    "display(productb_df)\n",
    "\n"
   ]
  },
  {
   "cell_type": "markdown",
   "metadata": {},
   "source": [
    "WITH THE DATABASES GENERATED, I CAN BEGIN MY ANALYSIS"
   ]
  },
  {
   "cell_type": "markdown",
   "metadata": {},
   "source": [
    "NOW, THE FIRST INSIGHT I'D LIKE TO GET IS THE SUPPLIER PROFILE IN TERMS OF VOLUME OF SALES. I'LL MAKE THIS ANALYSIS BELOW."
   ]
  },
  {
   "cell_type": "code",
   "execution_count": 21,
   "metadata": {},
   "outputs": [
    {
     "name": "stdout",
     "output_type": "stream",
     "text": [
      "Below we can see the top five suppliers in cumulative sales value:\n"
     ]
    },
    {
     "data": {
      "text/html": [
       "<div>\n",
       "<style scoped>\n",
       "    .dataframe tbody tr th:only-of-type {\n",
       "        vertical-align: middle;\n",
       "    }\n",
       "\n",
       "    .dataframe tbody tr th {\n",
       "        vertical-align: top;\n",
       "    }\n",
       "\n",
       "    .dataframe thead th {\n",
       "        text-align: right;\n",
       "    }\n",
       "</style>\n",
       "<table border=\"1\" class=\"dataframe\">\n",
       "  <thead>\n",
       "    <tr style=\"text-align: right;\">\n",
       "      <th></th>\n",
       "      <th>Company</th>\n",
       "      <th>Cumulative Sales ($)</th>\n",
       "      <th>Order Qty</th>\n",
       "    </tr>\n",
       "  </thead>\n",
       "  <tbody>\n",
       "    <tr>\n",
       "      <th>0</th>\n",
       "      <td>Company 15</td>\n",
       "      <td>24469.400690</td>\n",
       "      <td>156</td>\n",
       "    </tr>\n",
       "    <tr>\n",
       "      <th>1</th>\n",
       "      <td>Company 8</td>\n",
       "      <td>51321.092268</td>\n",
       "      <td>97</td>\n",
       "    </tr>\n",
       "    <tr>\n",
       "      <th>2</th>\n",
       "      <td>Company 1</td>\n",
       "      <td>71684.381449</td>\n",
       "      <td>153</td>\n",
       "    </tr>\n",
       "    <tr>\n",
       "      <th>3</th>\n",
       "      <td>Company 11</td>\n",
       "      <td>74806.156125</td>\n",
       "      <td>421</td>\n",
       "    </tr>\n",
       "    <tr>\n",
       "      <th>4</th>\n",
       "      <td>Company 18</td>\n",
       "      <td>89835.421699</td>\n",
       "      <td>139</td>\n",
       "    </tr>\n",
       "  </tbody>\n",
       "</table>\n",
       "</div>"
      ],
      "text/plain": [
       "      Company  Cumulative Sales ($)  Order Qty\n",
       "0  Company 15          24469.400690        156\n",
       "1   Company 8          51321.092268         97\n",
       "2   Company 1          71684.381449        153\n",
       "3  Company 11          74806.156125        421\n",
       "4  Company 18          89835.421699        139"
      ]
     },
     "metadata": {},
     "output_type": "display_data"
    },
    {
     "name": "stdout",
     "output_type": "stream",
     "text": [
      "In this case, we can see that the Supplier with most sales is: Company 18\n"
     ]
    },
    {
     "data": {
      "text/plain": [
       "<matplotlib.legend.Legend at 0x29e7e7b31d0>"
      ]
     },
     "execution_count": 21,
     "metadata": {},
     "output_type": "execute_result"
    },
    {
     "data": {
      "image/png": "[encoded data removed]",
      "text/plain": [
       "<Figure size 800x400 with 2 Axes>"
      ]
     },
     "metadata": {},
     "output_type": "display_data"
    }
   ],
   "source": [
    "##SUPPLIERS VOLUME\n",
    "##HERE I'LL ESTIMATE THE TOP 5 SUPLLIERS IN TERMS OF CUMULATIVE BOUGHT ITENS VALUE.\n",
    "\n",
    "\n",
    "print('Below we can see the top five suppliers in cumulative sales value:')\n",
    "\n",
    "##SQL QUERY TO RETRIEVE AND TRANSFORM THE DATA\n",
    "top_5_supppliers_in_value = sqldf('''\n",
    "\n",
    "--SINCE THE SAME COMPANY CAN HAVE SUBSIDIARIES IN MORE THAN ONE COUNTRY, I'LL HAVE TO GROUP THE SUPPLIERS DB BY COMPANY AND CONTRACT NUMBER\n",
    "WITH GROUP_SUP AS (\n",
    "\n",
    "SELECT sup_db.Company, sup_db.Contract\n",
    "\n",
    "FROM supplier_df sup_db\n",
    "                                \n",
    "\n",
    "GROUP BY sup_db.Company, sup_db.Contract\n",
    "\n",
    ")\n",
    "\n",
    "\n",
    "SELECT \n",
    "                                    sup_db_grouped.Company, \n",
    "                                    SUM(prod_db.'Market Value') AS 'Cumulative Sales ($)',\n",
    "                                    Count(sup_db_grouped.Company) AS 'Order Qty'\n",
    "\n",
    "\n",
    "                                    FROM sales_df sales_db\n",
    "\n",
    "\n",
    "\n",
    "LEFT JOIN productb_df prod_db ON(\n",
    "--HERE I'LL HAVE JUST A KEY FIELD, BUT IT COULD BE MORE IN OTHER CASES                             \n",
    "                                    prod_db.Products = sales_db.Product)\n",
    "\n",
    "\n",
    "\n",
    "LEFT JOIN GROUP_SUP sup_db_grouped ON(\n",
    "--HERE I'LL HAVE JUST A KEY FIELD, BUT IT COULD BE MORE IN OTHER CASES                                       \n",
    "                                    sup_db_grouped.Contract = sales_db.Contract)\n",
    "\n",
    "\n",
    "GROUP BY sup_db_grouped.Company\n",
    "\n",
    "ORDER BY SUM(prod_db.'Market Value') ASC\n",
    "                                    \n",
    "LIMIT 5\n",
    "\n",
    "''')\n",
    "\n",
    "display(top_5_supppliers_in_value)\n",
    "\n",
    "\n",
    "\n",
    "print('In this case, we can see that the Supplier with most sales is:', top_5_supppliers_in_value['Company'][4])\n",
    "\n",
    "##Now We'll make some graphics in order to get a better visualization of the data\n",
    "\n",
    "x = np.arange(len(top_5_supppliers_in_value))\n",
    "width = 0.5\n",
    "\n",
    "\n",
    "fig, ax = plt.subplots(figsize=(8,4))\n",
    "\n",
    "# plot data in grouped manner of bar type - SALES $\n",
    "ax.bar(x, top_5_supppliers_in_value['Cumulative Sales ($)'], width, color = 'Green')\n",
    "plt.xticks(x, top_5_supppliers_in_value['Company'], rotation ='vertical')\n",
    "ax.bar_label(ax.containers[0], label_type='center', rotation = 'vertical', color ='w')\n",
    "plt.xlabel(\"Companies\")\n",
    "plt.ylabel(\"Sales($)\")\n",
    "plt.title('Top 5 Suppliers - Sales')\n",
    "ax.legend([\"Cumulative Sales ($)\"])\n",
    "\n",
    "## PLOT SALES QTY\n",
    "ax2 = top_5_supppliers_in_value['Order Qty'].plot(secondary_y=True, color ='red')\n",
    "ax2.set_ylabel('Sales Qty')\n",
    "ax.legend([\"Sales ($)\"],loc = 'upper left')\n",
    "ax2.legend([\"Sales Qty\"],loc = 'upper right')"
   ]
  },
  {
   "cell_type": "markdown",
   "metadata": {},
   "source": [
    "NOW I'D LIKE TO SEE HOW THE MAIN SUPPLIERS REFLECT ON THE COMPANY'S TOTAL SALES VALUE."
   ]
  },
  {
   "cell_type": "code",
   "execution_count": 22,
   "metadata": {},
   "outputs": [
    {
     "name": "stdout",
     "output_type": "stream",
     "text": [
      "Below we can see the percentage of sales for each supplier:\n"
     ]
    },
    {
     "data": {
      "text/html": [
       "<div>\n",
       "<style scoped>\n",
       "    .dataframe tbody tr th:only-of-type {\n",
       "        vertical-align: middle;\n",
       "    }\n",
       "\n",
       "    .dataframe tbody tr th {\n",
       "        vertical-align: top;\n",
       "    }\n",
       "\n",
       "    .dataframe thead th {\n",
       "        text-align: right;\n",
       "    }\n",
       "</style>\n",
       "<table border=\"1\" class=\"dataframe\">\n",
       "  <thead>\n",
       "    <tr style=\"text-align: right;\">\n",
       "      <th></th>\n",
       "      <th>Pie Chart Slices</th>\n",
       "      <th>Supplier Percentage</th>\n",
       "    </tr>\n",
       "  </thead>\n",
       "  <tbody>\n",
       "    <tr>\n",
       "      <th>0</th>\n",
       "      <td>Other Suppliers</td>\n",
       "      <td>0.217740</td>\n",
       "    </tr>\n",
       "    <tr>\n",
       "      <th>1</th>\n",
       "      <td>Company 12</td>\n",
       "      <td>0.125646</td>\n",
       "    </tr>\n",
       "    <tr>\n",
       "      <th>2</th>\n",
       "      <td>Company 17</td>\n",
       "      <td>0.104074</td>\n",
       "    </tr>\n",
       "    <tr>\n",
       "      <th>3</th>\n",
       "      <td>Company 14</td>\n",
       "      <td>0.100629</td>\n",
       "    </tr>\n",
       "    <tr>\n",
       "      <th>4</th>\n",
       "      <td>Company 20</td>\n",
       "      <td>0.081999</td>\n",
       "    </tr>\n",
       "    <tr>\n",
       "      <th>5</th>\n",
       "      <td>Company 19</td>\n",
       "      <td>0.076530</td>\n",
       "    </tr>\n",
       "    <tr>\n",
       "      <th>6</th>\n",
       "      <td>Company 3</td>\n",
       "      <td>0.065074</td>\n",
       "    </tr>\n",
       "    <tr>\n",
       "      <th>7</th>\n",
       "      <td>Company 5</td>\n",
       "      <td>0.063574</td>\n",
       "    </tr>\n",
       "    <tr>\n",
       "      <th>8</th>\n",
       "      <td>Company 6</td>\n",
       "      <td>0.062576</td>\n",
       "    </tr>\n",
       "    <tr>\n",
       "      <th>9</th>\n",
       "      <td>Company 16</td>\n",
       "      <td>0.059094</td>\n",
       "    </tr>\n",
       "    <tr>\n",
       "      <th>10</th>\n",
       "      <td>Company 10</td>\n",
       "      <td>0.043062</td>\n",
       "    </tr>\n",
       "  </tbody>\n",
       "</table>\n",
       "</div>"
      ],
      "text/plain": [
       "   Pie Chart Slices  Supplier Percentage\n",
       "0   Other Suppliers             0.217740\n",
       "1        Company 12             0.125646\n",
       "2        Company 17             0.104074\n",
       "3        Company 14             0.100629\n",
       "4        Company 20             0.081999\n",
       "5        Company 19             0.076530\n",
       "6         Company 3             0.065074\n",
       "7         Company 5             0.063574\n",
       "8         Company 6             0.062576\n",
       "9        Company 16             0.059094\n",
       "10       Company 10             0.043062"
      ]
     },
     "metadata": {},
     "output_type": "display_data"
    },
    {
     "name": "stdout",
     "output_type": "stream",
     "text": [
      "In this case, we can see that the Supplier with most share in sales is Company 12 with 12.6 % of the shares.\n"
     ]
    },
    {
     "data": {
      "image/png": "[encoded data removed]",
      "text/plain": [
       "<Figure size 640x480 with 1 Axes>"
      ]
     },
     "metadata": {},
     "output_type": "display_data"
    },
    {
     "name": "stdout",
     "output_type": "stream",
     "text": [
      "Since the sample of sales is a random sorting, it is expected that the shares will not vary much in size. But in real cases well be able to see more clearly the distinction.\n"
     ]
    }
   ],
   "source": [
    "##SUPLLIERS BASE PERCENTAGE\n",
    "##HERE WE'LL LOOK AT THE DATA IN ORDER TO SEE THE PERCENTAGE OF EACH SUPPLIER IN CUMULATIVE SALES VALUE\n",
    "\n",
    "print('Below we can see the percentage of sales for each supplier:')\n",
    "\n",
    "##SQL QUERY TO RETRIEVE AND TRANSFORM THE DATA\n",
    "suppliers_percentage = sqldf('''\n",
    "\n",
    "\n",
    "\n",
    "                                  \n",
    "--SINCE THE SAME COMPANY CAN HAVE SUBSIDIARIES IN MORE THAN ONE COUNTRY, I'LL HAVE TO GROUP THE SUPPLIERS DB BY COMPANY AND CONTRACT NUMBER\n",
    "WITH GROUP_SUP AS (\n",
    "                                  \n",
    "SELECT sup_db.Company, sup_db.Contract\n",
    "\n",
    "FROM supplier_df sup_db\n",
    "                                \n",
    "                                  \n",
    "GROUP BY sup_db.Company, sup_db.Contract\n",
    "\n",
    ")\n",
    "            \n",
    ", SUP_PERCENTAGE AS (\n",
    "\n",
    "SELECT \n",
    "                                  sup_db_grouped.Company, \n",
    "                                  SUM(prod_db.'Market Value')/(\n",
    "                                  \n",
    "\n",
    "                                        --NESTED JOIN SO I CAN GET THE CUMULATIVE SALES AMOUNT\n",
    "                                            SELECT \n",
    "                                            SUM(prod_db.'Market Value') \n",
    "\n",
    "\n",
    "                                            FROM sales_df sales_db\n",
    "\n",
    "\n",
    "                                    \n",
    "                                            LEFT JOIN productb_df prod_db ON(\n",
    "                                            --HERE I'LL HAVE JUST A KEY FIELD, BUT IT COULD BE MORE IN OTHER CASES                             \n",
    "                                                                            prod_db.Products = sales_db.Product)\n",
    "                                                                            \n",
    "\n",
    "\n",
    "                                            LEFT JOIN GROUP_SUP sup_db_grouped ON(\n",
    "                                            --HERE I'LL HAVE JUST A KEY FIELD, BUT IT COULD BE MORE IN OTHER CASES  \n",
    "                                            sup_db_grouped.Contract = sales_db.Contract)\n",
    "\n",
    "\n",
    "\n",
    "\n",
    "\n",
    "\n",
    "\n",
    "                                  \n",
    "                                  ) AS 'Supplier Percentage',\n",
    "                                        --RANKING VALUES SO I CAN AGGREGATE LESSER ONES INTO 'OTHER' PIE SLICE\n",
    "                                  RANK () OVER ( ORDER BY SUM(prod_db.'Market Value') DESC ) as Company_Rank,\n",
    "\n",
    "                                  CASE WHEN RANK () OVER ( ORDER BY SUM(prod_db.'Market Value') DESC )<11 THEN  sup_db_grouped.Company ELSE 'Other Suppliers' END AS 'Pie Chart Slices'\n",
    "\n",
    "                                  \n",
    "                                  FROM sales_df sales_db\n",
    "\n",
    "\n",
    "                                  \n",
    "LEFT JOIN productb_df prod_db ON(\n",
    "--HERE I'LL HAVE JUST A KEY FIELD, BUT IT COULD BE MORE IN OTHER CASES                             \n",
    "                                  prod_db.Products = sales_db.Product)\n",
    "                                  \n",
    "\n",
    "\n",
    "LEFT JOIN GROUP_SUP sup_db_grouped ON(\n",
    "--HERE I'LL HAVE JUST A KEY FIELD, BUT IT COULD BE MORE IN OTHER CASES                                       \n",
    "                                 sup_db_grouped.Contract = sales_db.Contract)\n",
    "\n",
    "\n",
    "GROUP BY sup_db_grouped.Company\n",
    "                                  \n",
    "ORDER BY SUM(prod_db.'Market Value') ASC\n",
    "                                  \n",
    "\n",
    ")                                  \n",
    "\n",
    "\n",
    " \n",
    "SELECT SUP_PERCENTAGE.'Pie Chart Slices', SUM(SUP_PERCENTAGE.'Supplier Percentage') AS 'Supplier Percentage'\n",
    "\n",
    "FROM SUP_PERCENTAGE\n",
    "\n",
    "GROUP BY SUP_PERCENTAGE.'Pie Chart Slices'\n",
    "\n",
    "ORDER BY SUM(SUP_PERCENTAGE.'Supplier Percentage') DESC\n",
    "\n",
    "\n",
    "\n",
    "''')\n",
    "\n",
    "display(suppliers_percentage)\n",
    "\n",
    "\n",
    "print('In this case, we can see that the Supplier with most share in sales is', suppliers_percentage['Pie Chart Slices'][1],'with',round(suppliers_percentage['Supplier Percentage'][1]*100,1),'% of the shares.')\n",
    "\n",
    "\n",
    "##Now We'll make some graphics in order to get a better visualization of the data\n",
    "\n",
    "##creates explode array \n",
    "\n",
    "my_explode = [0.05]*len(suppliers_percentage['Supplier Percentage'])\n",
    "\n",
    "\n",
    "##creates pie chart\n",
    "plt.pie(suppliers_percentage['Supplier Percentage'],  labels=suppliers_percentage['Pie Chart Slices'],autopct='%1.1f%%', pctdistance=0.85,  explode=my_explode)\n",
    " \n",
    "# draw circle\n",
    "centre_circle = plt.Circle((0, 0), 0.70, fc='white')\n",
    "fig = plt.gcf()\n",
    " \n",
    "# Adding Circle in Pie chart\n",
    "fig.gca().add_artist(centre_circle)\n",
    " \n",
    "# Adding Title of chart\n",
    "plt.title('Company Share in Sales')\n",
    " \n",
    "# Displaying Chart\n",
    "plt.show()\n",
    "\n",
    "print('Since the sample of sales is a random sorting, it is expected that the shares will not vary much in size. But in real cases we''ll be able to see more clearly the distinction.')\n"
   ]
  },
  {
   "cell_type": "markdown",
   "metadata": {},
   "source": [
    "ANOTHER NICE VIZ IS THE SALES PRICE X VOLUME, IN ORDER TO IDENTIFY BUYING TENDENCIES RELATED TO THE PRODUCTS PRICES"
   ]
  },
  {
   "cell_type": "code",
   "execution_count": 23,
   "metadata": {},
   "outputs": [
    {
     "name": "stdout",
     "output_type": "stream",
     "text": [
      "Now we can see the summarized itens list and main measures, such as price, weight, and sales qty.\n"
     ]
    },
    {
     "data": {
      "text/html": [
       "<div>\n",
       "<style scoped>\n",
       "    .dataframe tbody tr th:only-of-type {\n",
       "        vertical-align: middle;\n",
       "    }\n",
       "\n",
       "    .dataframe tbody tr th {\n",
       "        vertical-align: top;\n",
       "    }\n",
       "\n",
       "    .dataframe thead th {\n",
       "        text-align: right;\n",
       "    }\n",
       "</style>\n",
       "<table border=\"1\" class=\"dataframe\">\n",
       "  <thead>\n",
       "    <tr style=\"text-align: right;\">\n",
       "      <th></th>\n",
       "      <th>Product</th>\n",
       "      <th>Weight</th>\n",
       "      <th>Volume</th>\n",
       "      <th>Sales Qty</th>\n",
       "      <th>Density</th>\n",
       "      <th>Market Value</th>\n",
       "      <th>Total Purchase Spend</th>\n",
       "    </tr>\n",
       "  </thead>\n",
       "  <tbody>\n",
       "    <tr>\n",
       "      <th>0</th>\n",
       "      <td>Product 16</td>\n",
       "      <td>13.741664</td>\n",
       "      <td>0.591118</td>\n",
       "      <td>951</td>\n",
       "      <td>23.246922</td>\n",
       "      <td>684.426256</td>\n",
       "      <td>6.508894e+05</td>\n",
       "    </tr>\n",
       "    <tr>\n",
       "      <th>1</th>\n",
       "      <td>Product 12</td>\n",
       "      <td>11.503311</td>\n",
       "      <td>0.813544</td>\n",
       "      <td>768</td>\n",
       "      <td>14.139753</td>\n",
       "      <td>1122.066907</td>\n",
       "      <td>8.617474e+05</td>\n",
       "    </tr>\n",
       "    <tr>\n",
       "      <th>2</th>\n",
       "      <td>Product 16</td>\n",
       "      <td>13.741664</td>\n",
       "      <td>0.591118</td>\n",
       "      <td>771</td>\n",
       "      <td>23.246922</td>\n",
       "      <td>684.426256</td>\n",
       "      <td>5.276926e+05</td>\n",
       "    </tr>\n",
       "    <tr>\n",
       "      <th>3</th>\n",
       "      <td>Product 10</td>\n",
       "      <td>18.943830</td>\n",
       "      <td>0.615542</td>\n",
       "      <td>291</td>\n",
       "      <td>30.775864</td>\n",
       "      <td>985.776519</td>\n",
       "      <td>2.868610e+05</td>\n",
       "    </tr>\n",
       "    <tr>\n",
       "      <th>4</th>\n",
       "      <td>Product 16</td>\n",
       "      <td>13.741664</td>\n",
       "      <td>0.591118</td>\n",
       "      <td>722</td>\n",
       "      <td>23.246922</td>\n",
       "      <td>684.426256</td>\n",
       "      <td>4.941558e+05</td>\n",
       "    </tr>\n",
       "    <tr>\n",
       "      <th>...</th>\n",
       "      <td>...</td>\n",
       "      <td>...</td>\n",
       "      <td>...</td>\n",
       "      <td>...</td>\n",
       "      <td>...</td>\n",
       "      <td>...</td>\n",
       "      <td>...</td>\n",
       "    </tr>\n",
       "    <tr>\n",
       "      <th>4995</th>\n",
       "      <td>Product 5</td>\n",
       "      <td>12.973698</td>\n",
       "      <td>0.807112</td>\n",
       "      <td>798</td>\n",
       "      <td>16.074231</td>\n",
       "      <td>1771.338966</td>\n",
       "      <td>1.413528e+06</td>\n",
       "    </tr>\n",
       "    <tr>\n",
       "      <th>4996</th>\n",
       "      <td>Product 13</td>\n",
       "      <td>1.644976</td>\n",
       "      <td>0.310803</td>\n",
       "      <td>7</td>\n",
       "      <td>5.292656</td>\n",
       "      <td>870.411244</td>\n",
       "      <td>6.092879e+03</td>\n",
       "    </tr>\n",
       "    <tr>\n",
       "      <th>4997</th>\n",
       "      <td>Product 9</td>\n",
       "      <td>15.617518</td>\n",
       "      <td>0.153131</td>\n",
       "      <td>408</td>\n",
       "      <td>101.988073</td>\n",
       "      <td>379.479938</td>\n",
       "      <td>1.548278e+05</td>\n",
       "    </tr>\n",
       "    <tr>\n",
       "      <th>4998</th>\n",
       "      <td>Product 4</td>\n",
       "      <td>19.038246</td>\n",
       "      <td>0.127221</td>\n",
       "      <td>622</td>\n",
       "      <td>149.646957</td>\n",
       "      <td>1151.981356</td>\n",
       "      <td>7.165324e+05</td>\n",
       "    </tr>\n",
       "    <tr>\n",
       "      <th>4999</th>\n",
       "      <td>Product 16</td>\n",
       "      <td>13.741664</td>\n",
       "      <td>0.591118</td>\n",
       "      <td>992</td>\n",
       "      <td>23.246922</td>\n",
       "      <td>684.426256</td>\n",
       "      <td>6.789508e+05</td>\n",
       "    </tr>\n",
       "  </tbody>\n",
       "</table>\n",
       "<p>5000 rows × 7 columns</p>\n",
       "</div>"
      ],
      "text/plain": [
       "         Product     Weight    Volume  Sales Qty     Density  Market Value  \\\n",
       "0     Product 16  13.741664  0.591118        951   23.246922    684.426256   \n",
       "1     Product 12  11.503311  0.813544        768   14.139753   1122.066907   \n",
       "2     Product 16  13.741664  0.591118        771   23.246922    684.426256   \n",
       "3     Product 10  18.943830  0.615542        291   30.775864    985.776519   \n",
       "4     Product 16  13.741664  0.591118        722   23.246922    684.426256   \n",
       "...          ...        ...       ...        ...         ...           ...   \n",
       "4995   Product 5  12.973698  0.807112        798   16.074231   1771.338966   \n",
       "4996  Product 13   1.644976  0.310803          7    5.292656    870.411244   \n",
       "4997   Product 9  15.617518  0.153131        408  101.988073    379.479938   \n",
       "4998   Product 4  19.038246  0.127221        622  149.646957   1151.981356   \n",
       "4999  Product 16  13.741664  0.591118        992   23.246922    684.426256   \n",
       "\n",
       "      Total Purchase Spend  \n",
       "0             6.508894e+05  \n",
       "1             8.617474e+05  \n",
       "2             5.276926e+05  \n",
       "3             2.868610e+05  \n",
       "4             4.941558e+05  \n",
       "...                    ...  \n",
       "4995          1.413528e+06  \n",
       "4996          6.092879e+03  \n",
       "4997          1.548278e+05  \n",
       "4998          7.165324e+05  \n",
       "4999          6.789508e+05  \n",
       "\n",
       "[5000 rows x 7 columns]"
      ]
     },
     "metadata": {},
     "output_type": "display_data"
    },
    {
     "name": "stdout",
     "output_type": "stream",
     "text": [
      "Below we can see a map that summarizes in which volume span the company spends most money. This can help us understand the companys \n",
      "shipping cost related to rent containers in ports or airpots.\n",
      "\n",
      "In many cases, this price is set by volume transported, so this study is justified.\n"
     ]
    },
    {
     "data": {
      "image/png": "[encoded data removed]",
      "text/plain": [
       "<Figure size 640x480 with 2 Axes>"
      ]
     },
     "metadata": {},
     "output_type": "display_data"
    },
    {
     "name": "stdout",
     "output_type": "stream",
     "text": [
      "For the graphic above, we can understand that if the darker colors tend to the right side of the viz, we have more occurences of high volume \n",
      "shipment orders, which demands a closer look on logistics of these parts, since the shipping cost will be greater due to the increased volume.\n",
      "\n",
      "On the other hand, if the darker colors tend to the left, the shipment profile tends to be a cheaper one in comparison.\n"
     ]
    }
   ],
   "source": [
    "##SALES PRICE X VOLUME\n",
    "\n",
    "##THIS STUDY MAY BE INTERESTING FROM THE SUPPLY CHAIN PERSPECTIVE SO WE CAN ANALYSE THE SHIPPING PER VOLUME RELATION FOR THE COMPANY'S ITENS.\n",
    "\n",
    "Itens_price_and_other_measures = sqldf('''\n",
    "\n",
    "\n",
    "Select  sales_db.Product, prod_db.Weight, prod_db.Volume, sales_db.'Sales Qty', prod_db.Weight/prod_db.Volume as Density, prod_db.'Market Value', prod_db.'Market Value' * sales_db.'Sales Qty' as 'Total Purchase Spend'\n",
    "\n",
    "                            from sales_df sales_db\n",
    "\n",
    "\n",
    "left join productb_df prod_db on (\n",
    "                            sales_db.Product = prod_db.Products\n",
    ")   \n",
    "\n",
    "\n",
    "\n",
    "\n",
    "''')\n",
    "\n",
    "print('Now we can see the summarized itens list and main measures, such as price, weight, and sales qty.')\n",
    "\n",
    "display(Itens_price_and_other_measures)\n",
    "\n",
    "\n",
    "\n",
    "print('Below we can see a map that summarizes in which volume span the company spends most money. This can help us understand the company''s \\nshipping cost related to rent containers in ports or airpots.')\n",
    "print('\\nIn many cases, this price is set by volume transported, so this study is justified.')\n",
    "\n",
    "# plot:\n",
    "\n",
    "# Control the color\n",
    "plt.hexbin( Itens_price_and_other_measures['Volume'],Itens_price_and_other_measures['Total Purchase Spend']/1000, gridsize=10, cmap=plt.cm.Blues)\n",
    "\n",
    "\n",
    "\n",
    "plt.colorbar()\n",
    "\n",
    "plt.title('Itens Relation - Total Purchase Spend x Volume')\n",
    "plt.xlabel(\"Volume [m³]\")\n",
    "plt.ylabel(\"Total Purchase Spend [1K-$]\")\n",
    "\n",
    "\n",
    "\n",
    "plt.show()\n",
    "\n",
    "print('For the graphic above, we can understand that if the darker colors tend to the right side of the viz, we have more occurences of high volume \\nshipment orders, which demands a closer look on logistics of these parts, since the shipping cost will be greater due to the increased volume.')\n",
    "print('\\nOn the other hand, if the darker colors tend to the left, the shipment profile tends to be a cheaper one in comparison.')\n",
    "\n",
    " "
   ]
  },
  {
   "cell_type": "markdown",
   "metadata": {},
   "source": [
    "NOW WE'LL ANALYZE THE SALES PROFILE PER CONTINENT AND COUNTRY"
   ]
  },
  {
   "cell_type": "code",
   "execution_count": 24,
   "metadata": {},
   "outputs": [
    {
     "name": "stdout",
     "output_type": "stream",
     "text": [
      "Here we can see the continent with the most sales:\n"
     ]
    },
    {
     "data": {
      "text/html": [
       "<div>\n",
       "<style scoped>\n",
       "    .dataframe tbody tr th:only-of-type {\n",
       "        vertical-align: middle;\n",
       "    }\n",
       "\n",
       "    .dataframe tbody tr th {\n",
       "        vertical-align: top;\n",
       "    }\n",
       "\n",
       "    .dataframe thead th {\n",
       "        text-align: right;\n",
       "    }\n",
       "</style>\n",
       "<table border=\"1\" class=\"dataframe\">\n",
       "  <thead>\n",
       "    <tr style=\"text-align: right;\">\n",
       "      <th></th>\n",
       "      <th>Continent</th>\n",
       "      <th>Sales Qty</th>\n",
       "    </tr>\n",
       "  </thead>\n",
       "  <tbody>\n",
       "    <tr>\n",
       "      <th>0</th>\n",
       "      <td>North America</td>\n",
       "      <td>1518958</td>\n",
       "    </tr>\n",
       "    <tr>\n",
       "      <th>1</th>\n",
       "      <td>Asia</td>\n",
       "      <td>1627778</td>\n",
       "    </tr>\n",
       "    <tr>\n",
       "      <th>2</th>\n",
       "      <td>Africa</td>\n",
       "      <td>2826146</td>\n",
       "    </tr>\n",
       "    <tr>\n",
       "      <th>3</th>\n",
       "      <td>South America</td>\n",
       "      <td>3886753</td>\n",
       "    </tr>\n",
       "    <tr>\n",
       "      <th>4</th>\n",
       "      <td>Europe</td>\n",
       "      <td>5199199</td>\n",
       "    </tr>\n",
       "  </tbody>\n",
       "</table>\n",
       "</div>"
      ],
      "text/plain": [
       "       Continent  Sales Qty\n",
       "0  North America    1518958\n",
       "1           Asia    1627778\n",
       "2         Africa    2826146\n",
       "3  South America    3886753\n",
       "4         Europe    5199199"
      ]
     },
     "metadata": {},
     "output_type": "display_data"
    },
    {
     "name": "stdout",
     "output_type": "stream",
     "text": [
      "Now lets calculate the sales per country inside this continent.\n",
      "Sales in North America :\n"
     ]
    },
    {
     "data": {
      "text/html": [
       "<div>\n",
       "<style scoped>\n",
       "    .dataframe tbody tr th:only-of-type {\n",
       "        vertical-align: middle;\n",
       "    }\n",
       "\n",
       "    .dataframe tbody tr th {\n",
       "        vertical-align: top;\n",
       "    }\n",
       "\n",
       "    .dataframe thead th {\n",
       "        text-align: right;\n",
       "    }\n",
       "</style>\n",
       "<table border=\"1\" class=\"dataframe\">\n",
       "  <thead>\n",
       "    <tr style=\"text-align: right;\">\n",
       "      <th></th>\n",
       "      <th>Country</th>\n",
       "      <th>Sales Qty</th>\n",
       "    </tr>\n",
       "  </thead>\n",
       "  <tbody>\n",
       "    <tr>\n",
       "      <th>0</th>\n",
       "      <td>Mexico</td>\n",
       "      <td>253310</td>\n",
       "    </tr>\n",
       "    <tr>\n",
       "      <th>1</th>\n",
       "      <td>USA</td>\n",
       "      <td>600378</td>\n",
       "    </tr>\n",
       "    <tr>\n",
       "      <th>2</th>\n",
       "      <td>Canada</td>\n",
       "      <td>665270</td>\n",
       "    </tr>\n",
       "  </tbody>\n",
       "</table>\n",
       "</div>"
      ],
      "text/plain": [
       "  Country  Sales Qty\n",
       "0  Mexico     253310\n",
       "1     USA     600378\n",
       "2  Canada     665270"
      ]
     },
     "metadata": {},
     "output_type": "display_data"
    },
    {
     "name": "stdout",
     "output_type": "stream",
     "text": [
      "\n",
      "Below we can see the results shown above in a horizontal bar format\n",
      "\n"
     ]
    },
    {
     "data": {
      "text/plain": [
       "<matplotlib.legend.Legend at 0x29e807bc210>"
      ]
     },
     "execution_count": 24,
     "metadata": {},
     "output_type": "execute_result"
    },
    {
     "data": {
      "image/png": "[encoded data removed]",
      "text/plain": [
       "<Figure size 800x400 with 1 Axes>"
      ]
     },
     "metadata": {},
     "output_type": "display_data"
    },
    {
     "data": {
      "image/png": "[encoded data removed]",
      "text/plain": [
       "<Figure size 800x400 with 1 Axes>"
      ]
     },
     "metadata": {},
     "output_type": "display_data"
    }
   ],
   "source": [
    "##Suppliers Origin Analysis\n",
    "\n",
    "\n",
    "##First We'll See which continent has the most sales\n",
    "\n",
    "print('Here we can see the continent with the most sales:')\n",
    "\n",
    "sales_per_continent = sqldf('''\n",
    "\n",
    "\n",
    "SELECT sup_db.'Continent', SUM(sales_db.'Sales Qty') as 'Sales Qty'\n",
    "                            \n",
    "                            from sales_df sales_db\n",
    "\n",
    "                            left join supplier_df sup_db on (sup_db.'Contract' = sales_db.'Contract')\n",
    "\n",
    "\n",
    "                            group by sup_db.'Continent'\n",
    "                            \n",
    "                            order by  SUM(sales_db.'Sales Qty') asc\n",
    "\n",
    "''')\n",
    "\n",
    "display(sales_per_continent) \n",
    "\n",
    "print('Now let''s calculate the sales per country inside this continent.\\nSales in',sales_per_continent['Continent'][0],':')\n",
    "\n",
    "\n",
    "##Now We'll make some graphics in order to get a better visualization of the data\n",
    "\n",
    "x = np.arange(len(sales_per_continent))\n",
    "width = 0.5\n",
    "\n",
    "\n",
    "fig, ax = plt.subplots(figsize=(8,4))\n",
    "\n",
    "# plot data in grouped manner of bar type - SALES $\n",
    "ax.barh(x, round(sales_per_continent['Sales Qty']/1000000,2), width, color = 'Red')\n",
    "plt.yticks(x, sales_per_continent['Continent'], rotation ='horizontal')\n",
    "ax.bar_label(ax.containers[0], label_type='center', rotation = 'horizontal', color ='w')\n",
    "plt.ylabel(\"Continents\")\n",
    "plt.xlabel(\"Sales Qty/1e6\")\n",
    "plt.title('Continents Rank')\n",
    "ax.legend([\"Continents\"])\n",
    "\n",
    "##Now we get the countries in the continent with the most sales\n",
    "\n",
    "sales_in_first_continent = sqldf('''\n",
    "\n",
    "\n",
    "SELECT sup_db.'Country', SUM(sales_db.'Sales Qty') as 'Sales Qty'\n",
    "                            \n",
    "                            from sales_df sales_db\n",
    "\n",
    "                            left join supplier_df sup_db on (sup_db.'Contract' = sales_db.'Contract')\n",
    "\n",
    "                            WHERE sup_db.'Continent' IN (\n",
    "                            \n",
    "                                                SELECT sales_p_db.'Continent'\n",
    "                                                from sales_per_continent sales_p_db\n",
    "                                                limit 1\n",
    "\n",
    "\n",
    "                            \n",
    "                            )\n",
    "                            \n",
    "\n",
    "                            group by sup_db.'Country'\n",
    "                            \n",
    "                            order by  SUM(sales_db.'Sales Qty') asc\n",
    "\n",
    "''')\n",
    "\n",
    "\n",
    "y= np.arange(len(sales_in_first_continent))\n",
    "display(sales_in_first_continent)\n",
    "print('\\nBelow we can see the results shown above in a horizontal bar format\\n')\n",
    "fig2, ax2 = plt.subplots(figsize=(8,4))\n",
    "\n",
    "# plot data in grouped manner of bar type - SALES $\n",
    "ax2.barh(y, round(sales_in_first_continent['Sales Qty']/1000000,2), width, color = 'Red')\n",
    "plt.yticks(y, sales_in_first_continent['Country'], rotation ='horizontal')\n",
    "ax2.bar_label(ax2.containers[0], label_type='center', rotation = 'horizontal', color ='w')\n",
    "plt.ylabel(\"Countries\")\n",
    "plt.xlabel(\"Sales Qty/1e6\")\n",
    "plt.title('Continents Rank')\n",
    "ax2.legend([\"Countries\"])\n",
    "\n"
   ]
  },
  {
   "cell_type": "markdown",
   "metadata": {},
   "source": [
    "ANOTHER NICE METRIC IS THE SUPPLIER LATE/ON-TIME DELIVERIES PERFORMANCE, SO WE CAN IDENTIFY THE WORST OFFENDERS AND PLAN INCREASING PERFORMANCE STRATEGIES WITH THEM."
   ]
  },
  {
   "cell_type": "code",
   "execution_count": 25,
   "metadata": {},
   "outputs": [
    {
     "name": "stdout",
     "output_type": "stream",
     "text": [
      "The supplier with the most late deliveries is: Company 12\n"
     ]
    },
    {
     "data": {
      "text/html": [
       "<div>\n",
       "<style scoped>\n",
       "    .dataframe tbody tr th:only-of-type {\n",
       "        vertical-align: middle;\n",
       "    }\n",
       "\n",
       "    .dataframe tbody tr th {\n",
       "        vertical-align: top;\n",
       "    }\n",
       "\n",
       "    .dataframe thead th {\n",
       "        text-align: right;\n",
       "    }\n",
       "</style>\n",
       "<table border=\"1\" class=\"dataframe\">\n",
       "  <thead>\n",
       "    <tr style=\"text-align: right;\">\n",
       "      <th></th>\n",
       "      <th>Company</th>\n",
       "      <th>Late Sales Count</th>\n",
       "      <th>On-Time Sales Count</th>\n",
       "    </tr>\n",
       "  </thead>\n",
       "  <tbody>\n",
       "    <tr>\n",
       "      <th>0</th>\n",
       "      <td>Company 12</td>\n",
       "      <td>1749</td>\n",
       "      <td>4257</td>\n",
       "    </tr>\n",
       "    <tr>\n",
       "      <th>1</th>\n",
       "      <td>Company 11</td>\n",
       "      <td>1048</td>\n",
       "      <td>2320</td>\n",
       "    </tr>\n",
       "    <tr>\n",
       "      <th>2</th>\n",
       "      <td>Company 16</td>\n",
       "      <td>1040</td>\n",
       "      <td>2328</td>\n",
       "    </tr>\n",
       "    <tr>\n",
       "      <th>3</th>\n",
       "      <td>Company 9</td>\n",
       "      <td>777</td>\n",
       "      <td>1743</td>\n",
       "    </tr>\n",
       "    <tr>\n",
       "      <th>4</th>\n",
       "      <td>Company 14</td>\n",
       "      <td>616</td>\n",
       "      <td>1463</td>\n",
       "    </tr>\n",
       "    <tr>\n",
       "      <th>5</th>\n",
       "      <td>Company 17</td>\n",
       "      <td>612</td>\n",
       "      <td>1128</td>\n",
       "    </tr>\n",
       "    <tr>\n",
       "      <th>6</th>\n",
       "      <td>Company 2</td>\n",
       "      <td>558</td>\n",
       "      <td>1278</td>\n",
       "    </tr>\n",
       "    <tr>\n",
       "      <th>7</th>\n",
       "      <td>Company 6</td>\n",
       "      <td>390</td>\n",
       "      <td>965</td>\n",
       "    </tr>\n",
       "    <tr>\n",
       "      <th>8</th>\n",
       "      <td>Company 20</td>\n",
       "      <td>390</td>\n",
       "      <td>880</td>\n",
       "    </tr>\n",
       "    <tr>\n",
       "      <th>9</th>\n",
       "      <td>Company 3</td>\n",
       "      <td>260</td>\n",
       "      <td>656</td>\n",
       "    </tr>\n",
       "    <tr>\n",
       "      <th>10</th>\n",
       "      <td>Company 5</td>\n",
       "      <td>256</td>\n",
       "      <td>444</td>\n",
       "    </tr>\n",
       "    <tr>\n",
       "      <th>11</th>\n",
       "      <td>Company 10</td>\n",
       "      <td>252</td>\n",
       "      <td>600</td>\n",
       "    </tr>\n",
       "    <tr>\n",
       "      <th>12</th>\n",
       "      <td>Company 19</td>\n",
       "      <td>240</td>\n",
       "      <td>548</td>\n",
       "    </tr>\n",
       "    <tr>\n",
       "      <th>13</th>\n",
       "      <td>Company 4</td>\n",
       "      <td>232</td>\n",
       "      <td>452</td>\n",
       "    </tr>\n",
       "    <tr>\n",
       "      <th>14</th>\n",
       "      <td>Company 13</td>\n",
       "      <td>153</td>\n",
       "      <td>282</td>\n",
       "    </tr>\n",
       "    <tr>\n",
       "      <th>15</th>\n",
       "      <td>Company 15</td>\n",
       "      <td>150</td>\n",
       "      <td>318</td>\n",
       "    </tr>\n",
       "    <tr>\n",
       "      <th>16</th>\n",
       "      <td>Company 1</td>\n",
       "      <td>144</td>\n",
       "      <td>315</td>\n",
       "    </tr>\n",
       "    <tr>\n",
       "      <th>17</th>\n",
       "      <td>Company 7</td>\n",
       "      <td>135</td>\n",
       "      <td>342</td>\n",
       "    </tr>\n",
       "    <tr>\n",
       "      <th>18</th>\n",
       "      <td>Company 18</td>\n",
       "      <td>129</td>\n",
       "      <td>288</td>\n",
       "    </tr>\n",
       "    <tr>\n",
       "      <th>19</th>\n",
       "      <td>Company 8</td>\n",
       "      <td>64</td>\n",
       "      <td>130</td>\n",
       "    </tr>\n",
       "  </tbody>\n",
       "</table>\n",
       "</div>"
      ],
      "text/plain": [
       "       Company  Late Sales Count  On-Time Sales Count\n",
       "0   Company 12              1749                 4257\n",
       "1   Company 11              1048                 2320\n",
       "2   Company 16              1040                 2328\n",
       "3    Company 9               777                 1743\n",
       "4   Company 14               616                 1463\n",
       "5   Company 17               612                 1128\n",
       "6    Company 2               558                 1278\n",
       "7    Company 6               390                  965\n",
       "8   Company 20               390                  880\n",
       "9    Company 3               260                  656\n",
       "10   Company 5               256                  444\n",
       "11  Company 10               252                  600\n",
       "12  Company 19               240                  548\n",
       "13   Company 4               232                  452\n",
       "14  Company 13               153                  282\n",
       "15  Company 15               150                  318\n",
       "16   Company 1               144                  315\n",
       "17   Company 7               135                  342\n",
       "18  Company 18               129                  288\n",
       "19   Company 8                64                  130"
      ]
     },
     "metadata": {},
     "output_type": "display_data"
    },
    {
     "name": "stdout",
     "output_type": "stream",
     "text": [
      "Now we can see a summary of the sales (Late and On-time) per supplier.\n"
     ]
    },
    {
     "data": {
      "image/png": "[encoded data removed]",
      "text/plain": [
       "<Figure size 1200x300 with 1 Axes>"
      ]
     },
     "metadata": {},
     "output_type": "display_data"
    }
   ],
   "source": [
    "##Suppliers Performance\n",
    "\n",
    "##Here We'll estimate the suppliers with the most late deliveries. We can make this analysis using the\n",
    "##shipping date and the goods receipt time.\n",
    "\n",
    "##Here i'll estimate that the date of the analysis is 01/03/2023.\n",
    "\n",
    "##Now we'll Get the count of late and on-time deliveries per supplier in a df.\n",
    "\n",
    "\n",
    "\n",
    "worst_offenders_suppliers = sqldf('''\n",
    "\n",
    "WITH LATE_SUPPLIERS AS(\n",
    "\n",
    "                SELECT sup_db.Company, COUNT(sales_sb.'Sales Qty') AS 'Late Sales Count'\n",
    "\n",
    "                FROM sales_df sales_sb\n",
    "                \n",
    "                LEFT JOIN supplier_df sup_db on (sup_db.'Contract' = sales_sb.'Contract')\n",
    "                \n",
    "                WHERE \n",
    "                    JULIANDAY(DATE(sales_sb.'Ship Date'))-JULIANDAY(DATE('2023-03-01'))<0\n",
    "                    \n",
    "\n",
    "                GROUP BY sup_db.Company\n",
    "                \n",
    "                ORDER BY COUNT(sales_sb.'Sales Qty') DESC\n",
    "                \n",
    "                ) ,\n",
    "\n",
    "                \n",
    "                ON_TIME_SUPPLIERS AS (\n",
    "\n",
    "                SELECT sup_db.Company, COUNT(sales_sb.'Sales Qty') AS 'On-Time Sales Count'\n",
    "\n",
    "                FROM sales_df sales_sb\n",
    "                \n",
    "                LEFT JOIN supplier_df sup_db on (sup_db.'Contract' = sales_sb.'Contract')\n",
    "                \n",
    "                WHERE \n",
    "                    JULIANDAY(DATE(sales_sb.'Ship Date'))-JULIANDAY(DATE('2023-03-01'))>=0\n",
    "                    \n",
    "\n",
    "                GROUP BY sup_db.Company\n",
    "                \n",
    "                ORDER BY COUNT(sales_sb.'Sales Qty') DESC\n",
    "\n",
    "\n",
    "\n",
    "\n",
    "\n",
    "\n",
    "                )\n",
    "                                    \n",
    "                        SELECT late_sup.Company, late_sup.'Late Sales Count', ont_sup.'On-Time Sales Count'\n",
    "                        \n",
    "                        FROM LATE_SUPPLIERS late_sup\n",
    "                            \n",
    "                            \n",
    "                        left join ON_TIME_SUPPLIERS ont_sup on(\n",
    "                                \n",
    "                        late_sup.Company = ont_sup.Company\n",
    "\n",
    "\n",
    "                            )\n",
    "\n",
    "                        ORDER BY late_sup.'Late Sales Count' DESC\n",
    "\n",
    "\n",
    "''')\n",
    "print('The supplier with the most late deliveries is:',worst_offenders_suppliers['Company'][0])\n",
    "display(worst_offenders_suppliers)\n",
    "\n",
    "print('Now we can see a summary of the sales (Late and On-time) per supplier.')\n",
    "\n",
    "\n",
    "##Now I'll make a stacked Area Graphic in order to visualize the proportion between late and on time deliveries per supplier.\n",
    "fig, ax = plt.subplots(figsize=(12,3))\n",
    "plt.stackplot(worst_offenders_suppliers['Company'],worst_offenders_suppliers['Late Sales Count'],worst_offenders_suppliers['On-Time Sales Count'] )\n",
    "plt.title('Late Deliveries')\n",
    "plt.tick_params(labelsize=12)\n",
    "plt.xticks(worst_offenders_suppliers['Company'], rotation ='vertical')\n",
    "plt.xlabel('Companies', size=12)\n",
    "plt.ylabel('Deliveries', size=12)\n",
    "plt.ylim(bottom=0)\n",
    "plt.legend(worst_offenders_suppliers.loc[:, worst_offenders_suppliers.columns != 'Company'],loc='upper right')\n",
    "\n",
    "plt.show()"
   ]
  },
  {
   "cell_type": "markdown",
   "metadata": {},
   "source": [
    "FOR LAST, I'D LIKE TO GET THE MAIN PRODUCTS PER COUNTRY, SO WE CAN HAVE A PROFILE OF THE MOST COMMON ITEMS PER REGION."
   ]
  },
  {
   "cell_type": "code",
   "execution_count": 26,
   "metadata": {},
   "outputs": [
    {
     "name": "stdout",
     "output_type": "stream",
     "text": [
      "The country with most sales is Paraguay\n",
      "Below we can see a list of the top 5 Coutnries with most deliveries, with their individual top 3 products:\n"
     ]
    },
    {
     "data": {
      "text/html": [
       "<div>\n",
       "<style scoped>\n",
       "    .dataframe tbody tr th:only-of-type {\n",
       "        vertical-align: middle;\n",
       "    }\n",
       "\n",
       "    .dataframe tbody tr th {\n",
       "        vertical-align: top;\n",
       "    }\n",
       "\n",
       "    .dataframe thead th {\n",
       "        text-align: right;\n",
       "    }\n",
       "</style>\n",
       "<table border=\"1\" class=\"dataframe\">\n",
       "  <thead>\n",
       "    <tr style=\"text-align: right;\">\n",
       "      <th></th>\n",
       "      <th>Country</th>\n",
       "      <th>Product</th>\n",
       "      <th>Count_per_Country</th>\n",
       "      <th>RANK</th>\n",
       "      <th>RANK_COUNTRY</th>\n",
       "    </tr>\n",
       "  </thead>\n",
       "  <tbody>\n",
       "    <tr>\n",
       "      <th>0</th>\n",
       "      <td>Paraguay</td>\n",
       "      <td>Product 12</td>\n",
       "      <td>1638</td>\n",
       "      <td>1</td>\n",
       "      <td>1</td>\n",
       "    </tr>\n",
       "    <tr>\n",
       "      <th>1</th>\n",
       "      <td>Paraguay</td>\n",
       "      <td>Product 9</td>\n",
       "      <td>360</td>\n",
       "      <td>2</td>\n",
       "      <td>1</td>\n",
       "    </tr>\n",
       "    <tr>\n",
       "      <th>2</th>\n",
       "      <td>Paraguay</td>\n",
       "      <td>Product 2</td>\n",
       "      <td>306</td>\n",
       "      <td>3</td>\n",
       "      <td>1</td>\n",
       "    </tr>\n",
       "    <tr>\n",
       "      <th>3</th>\n",
       "      <td>Russia</td>\n",
       "      <td>Product 12</td>\n",
       "      <td>546</td>\n",
       "      <td>1</td>\n",
       "      <td>2</td>\n",
       "    </tr>\n",
       "    <tr>\n",
       "      <th>4</th>\n",
       "      <td>Russia</td>\n",
       "      <td>Product 3</td>\n",
       "      <td>458</td>\n",
       "      <td>2</td>\n",
       "      <td>2</td>\n",
       "    </tr>\n",
       "    <tr>\n",
       "      <th>5</th>\n",
       "      <td>Russia</td>\n",
       "      <td>Product 9</td>\n",
       "      <td>360</td>\n",
       "      <td>3</td>\n",
       "      <td>2</td>\n",
       "    </tr>\n",
       "    <tr>\n",
       "      <th>6</th>\n",
       "      <td>Portugal</td>\n",
       "      <td>Product 14</td>\n",
       "      <td>891</td>\n",
       "      <td>1</td>\n",
       "      <td>3</td>\n",
       "    </tr>\n",
       "    <tr>\n",
       "      <th>7</th>\n",
       "      <td>Portugal</td>\n",
       "      <td>Product 12</td>\n",
       "      <td>546</td>\n",
       "      <td>2</td>\n",
       "      <td>3</td>\n",
       "    </tr>\n",
       "    <tr>\n",
       "      <th>8</th>\n",
       "      <td>Portugal</td>\n",
       "      <td>Product 16</td>\n",
       "      <td>421</td>\n",
       "      <td>3</td>\n",
       "      <td>3</td>\n",
       "    </tr>\n",
       "    <tr>\n",
       "      <th>9</th>\n",
       "      <td>Spain</td>\n",
       "      <td>Product 11</td>\n",
       "      <td>842</td>\n",
       "      <td>1</td>\n",
       "      <td>4</td>\n",
       "    </tr>\n",
       "    <tr>\n",
       "      <th>10</th>\n",
       "      <td>Spain</td>\n",
       "      <td>Product 16</td>\n",
       "      <td>421</td>\n",
       "      <td>2</td>\n",
       "      <td>4</td>\n",
       "    </tr>\n",
       "    <tr>\n",
       "      <th>11</th>\n",
       "      <td>Spain</td>\n",
       "      <td>Product 9</td>\n",
       "      <td>360</td>\n",
       "      <td>3</td>\n",
       "      <td>4</td>\n",
       "    </tr>\n",
       "    <tr>\n",
       "      <th>12</th>\n",
       "      <td>Nigeria</td>\n",
       "      <td>Product 12</td>\n",
       "      <td>546</td>\n",
       "      <td>1</td>\n",
       "      <td>5</td>\n",
       "    </tr>\n",
       "    <tr>\n",
       "      <th>13</th>\n",
       "      <td>Nigeria</td>\n",
       "      <td>Product 19</td>\n",
       "      <td>394</td>\n",
       "      <td>2</td>\n",
       "      <td>5</td>\n",
       "    </tr>\n",
       "    <tr>\n",
       "      <th>14</th>\n",
       "      <td>Nigeria</td>\n",
       "      <td>Product 9</td>\n",
       "      <td>360</td>\n",
       "      <td>3</td>\n",
       "      <td>5</td>\n",
       "    </tr>\n",
       "  </tbody>\n",
       "</table>\n",
       "</div>"
      ],
      "text/plain": [
       "     Country     Product  Count_per_Country  RANK  RANK_COUNTRY\n",
       "0   Paraguay  Product 12               1638     1             1\n",
       "1   Paraguay   Product 9                360     2             1\n",
       "2   Paraguay   Product 2                306     3             1\n",
       "3     Russia  Product 12                546     1             2\n",
       "4     Russia   Product 3                458     2             2\n",
       "5     Russia   Product 9                360     3             2\n",
       "6   Portugal  Product 14                891     1             3\n",
       "7   Portugal  Product 12                546     2             3\n",
       "8   Portugal  Product 16                421     3             3\n",
       "9      Spain  Product 11                842     1             4\n",
       "10     Spain  Product 16                421     2             4\n",
       "11     Spain   Product 9                360     3             4\n",
       "12   Nigeria  Product 12                546     1             5\n",
       "13   Nigeria  Product 19                394     2             5\n",
       "14   Nigeria   Product 9                360     3             5"
      ]
     },
     "metadata": {},
     "output_type": "display_data"
    },
    {
     "name": "stdout",
     "output_type": "stream",
     "text": [
      "Now lets make a sunburst representation so we can better visualize de data:\n"
     ]
    },
    {
     "data": {
      "application/vnd.plotly.v1+json": {
       "config": {
        "plotlyServerURL": "https://plot.ly"
       },
       "data": [
        {
         "branchvalues": "total",
         "domain": {
          "x": [
           0,
           1
          ],
          "y": [
           0,
           1
          ]
         },
         "hovertemplate": "labels=%{label}<br>Count_per_Country=%{value}<br>parent=%{parent}<br>id=%{id}<extra></extra>",
         "ids": [
          "Spain/Product 11",
          "Nigeria/Product 12",
          "Paraguay/Product 12",
          "Portugal/Product 12",
          "Russia/Product 12",
          "Portugal/Product 14",
          "Portugal/Product 16",
          "Spain/Product 16",
          "Nigeria/Product 19",
          "Paraguay/Product 2",
          "Russia/Product 3",
          "Nigeria/Product 9",
          "Paraguay/Product 9",
          "Russia/Product 9",
          "Spain/Product 9",
          "Nigeria",
          "Paraguay",
          "Portugal",
          "Russia",
          "Spain"
         ],
         "labels": [
          "Product 11",
          "Product 12",
          "Product 12",
          "Product 12",
          "Product 12",
          "Product 14",
          "Product 16",
          "Product 16",
          "Product 19",
          "Product 2",
          "Product 3",
          "Product 9",
          "Product 9",
          "Product 9",
          "Product 9",
          "Nigeria",
          "Paraguay",
          "Portugal",
          "Russia",
          "Spain"
         ],
         "name": "",
         "parents": [
          "Spain",
          "Nigeria",
          "Paraguay",
          "Portugal",
          "Russia",
          "Portugal",
          "Portugal",
          "Spain",
          "Nigeria",
          "Paraguay",
          "Russia",
          "Nigeria",
          "Paraguay",
          "Russia",
          "Spain",
          "",
          "",
          "",
          "",
          ""
         ],
         "type": "sunburst",
         "values": [
          842,
          546,
          1638,
          546,
          546,
          891,
          421,
          421,
          394,
          306,
          458,
          360,
          360,
          360,
          360,
          1300,
          2304,
          1858,
          1364,
          1623
         ]
        }
       ],
       "layout": {
        "legend": {
         "tracegroupgap": 0
        },
        "margin": {
         "t": 60
        },
        "template": {
         "data": {
          "bar": [
           {
            "error_x": {
             "color": "#2a3f5f"
            },
            "error_y": {
             "color": "#2a3f5f"
            },
            "marker": {
             "line": {
              "color": "#E5ECF6",
              "width": 0.5
             },
             "pattern": {
              "fillmode": "overlay",
              "size": 10,
              "solidity": 0.2
             }
            },
            "type": "bar"
           }
          ],
          "barpolar": [
           {
            "marker": {
             "line": {
              "color": "#E5ECF6",
              "width": 0.5
             },
             "pattern": {
              "fillmode": "overlay",
              "size": 10,
              "solidity": 0.2
             }
            },
            "type": "barpolar"
           }
          ],
          "carpet": [
           {
            "aaxis": {
             "endlinecolor": "#2a3f5f",
             "gridcolor": "white",
             "linecolor": "white",
             "minorgridcolor": "white",
             "startlinecolor": "#2a3f5f"
            },
            "baxis": {
             "endlinecolor": "#2a3f5f",
             "gridcolor": "white",
             "linecolor": "white",
             "minorgridcolor": "white",
             "startlinecolor": "#2a3f5f"
            },
            "type": "carpet"
           }
          ],
          "choropleth": [
           {
            "colorbar": {
             "outlinewidth": 0,
             "ticks": ""
            },
            "type": "choropleth"
           }
          ],
          "contour": [
           {
            "colorbar": {
             "outlinewidth": 0,
             "ticks": ""
            },
            "colorscale": [
             [
              0,
              "#0d0887"
             ],
             [
              0.1111111111111111,
              "#46039f"
             ],
             [
              0.2222222222222222,
              "#7201a8"
             ],
             [
              0.3333333333333333,
              "#9c179e"
             ],
             [
              0.4444444444444444,
              "#bd3786"
             ],
             [
              0.5555555555555556,
              "#d8576b"
             ],
             [
              0.6666666666666666,
              "#ed7953"
             ],
             [
              0.7777777777777778,
              "#fb9f3a"
             ],
             [
              0.8888888888888888,
              "#fdca26"
             ],
             [
              1,
              "#f0f921"
             ]
            ],
            "type": "contour"
           }
          ],
          "contourcarpet": [
           {
            "colorbar": {
             "outlinewidth": 0,
             "ticks": ""
            },
            "type": "contourcarpet"
           }
          ],
          "heatmap": [
           {
            "colorbar": {
             "outlinewidth": 0,
             "ticks": ""
            },
            "colorscale": [
             [
              0,
              "#0d0887"
             ],
             [
              0.1111111111111111,
              "#46039f"
             ],
             [
              0.2222222222222222,
              "#7201a8"
             ],
             [
              0.3333333333333333,
              "#9c179e"
             ],
             [
              0.4444444444444444,
              "#bd3786"
             ],
             [
              0.5555555555555556,
              "#d8576b"
             ],
             [
              0.6666666666666666,
              "#ed7953"
             ],
             [
              0.7777777777777778,
              "#fb9f3a"
             ],
             [
              0.8888888888888888,
              "#fdca26"
             ],
             [
              1,
              "#f0f921"
             ]
            ],
            "type": "heatmap"
           }
          ],
          "heatmapgl": [
           {
            "colorbar": {
             "outlinewidth": 0,
             "ticks": ""
            },
            "colorscale": [
             [
              0,
              "#0d0887"
             ],
             [
              0.1111111111111111,
              "#46039f"
             ],
             [
              0.2222222222222222,
              "#7201a8"
             ],
             [
              0.3333333333333333,
              "#9c179e"
             ],
             [
              0.4444444444444444,
              "#bd3786"
             ],
             [
              0.5555555555555556,
              "#d8576b"
             ],
             [
              0.6666666666666666,
              "#ed7953"
             ],
             [
              0.7777777777777778,
              "#fb9f3a"
             ],
             [
              0.8888888888888888,
              "#fdca26"
             ],
             [
              1,
              "#f0f921"
             ]
            ],
            "type": "heatmapgl"
           }
          ],
          "histogram": [
           {
            "marker": {
             "pattern": {
              "fillmode": "overlay",
              "size": 10,
              "solidity": 0.2
             }
            },
            "type": "histogram"
           }
          ],
          "histogram2d": [
           {
            "colorbar": {
             "outlinewidth": 0,
             "ticks": ""
            },
            "colorscale": [
             [
              0,
              "#0d0887"
             ],
             [
              0.1111111111111111,
              "#46039f"
             ],
             [
              0.2222222222222222,
              "#7201a8"
             ],
             [
              0.3333333333333333,
              "#9c179e"
             ],
             [
              0.4444444444444444,
              "#bd3786"
             ],
             [
              0.5555555555555556,
              "#d8576b"
             ],
             [
              0.6666666666666666,
              "#ed7953"
             ],
             [
              0.7777777777777778,
              "#fb9f3a"
             ],
             [
              0.8888888888888888,
              "#fdca26"
             ],
             [
              1,
              "#f0f921"
             ]
            ],
            "type": "histogram2d"
           }
          ],
          "histogram2dcontour": [
           {
            "colorbar": {
             "outlinewidth": 0,
             "ticks": ""
            },
            "colorscale": [
             [
              0,
              "#0d0887"
             ],
             [
              0.1111111111111111,
              "#46039f"
             ],
             [
              0.2222222222222222,
              "#7201a8"
             ],
             [
              0.3333333333333333,
              "#9c179e"
             ],
             [
              0.4444444444444444,
              "#bd3786"
             ],
             [
              0.5555555555555556,
              "#d8576b"
             ],
             [
              0.6666666666666666,
              "#ed7953"
             ],
             [
              0.7777777777777778,
              "#fb9f3a"
             ],
             [
              0.8888888888888888,
              "#fdca26"
             ],
             [
              1,
              "#f0f921"
             ]
            ],
            "type": "histogram2dcontour"
           }
          ],
          "mesh3d": [
           {
            "colorbar": {
             "outlinewidth": 0,
             "ticks": ""
            },
            "type": "mesh3d"
           }
          ],
          "parcoords": [
           {
            "line": {
             "colorbar": {
              "outlinewidth": 0,
              "ticks": ""
             }
            },
            "type": "parcoords"
           }
          ],
          "pie": [
           {
            "automargin": true,
            "type": "pie"
           }
          ],
          "scatter": [
           {
            "fillpattern": {
             "fillmode": "overlay",
             "size": 10,
             "solidity": 0.2
            },
            "type": "scatter"
           }
          ],
          "scatter3d": [
           {
            "line": {
             "colorbar": {
              "outlinewidth": 0,
              "ticks": ""
             }
            },
            "marker": {
             "colorbar": {
              "outlinewidth": 0,
              "ticks": ""
             }
            },
            "type": "scatter3d"
           }
          ],
          "scattercarpet": [
           {
            "marker": {
             "colorbar": {
              "outlinewidth": 0,
              "ticks": ""
             }
            },
            "type": "scattercarpet"
           }
          ],
          "scattergeo": [
           {
            "marker": {
             "colorbar": {
              "outlinewidth": 0,
              "ticks": ""
             }
            },
            "type": "scattergeo"
           }
          ],
          "scattergl": [
           {
            "marker": {
             "colorbar": {
              "outlinewidth": 0,
              "ticks": ""
             }
            },
            "type": "scattergl"
           }
          ],
          "scattermapbox": [
           {
            "marker": {
             "colorbar": {
              "outlinewidth": 0,
              "ticks": ""
             }
            },
            "type": "scattermapbox"
           }
          ],
          "scatterpolar": [
           {
            "marker": {
             "colorbar": {
              "outlinewidth": 0,
              "ticks": ""
             }
            },
            "type": "scatterpolar"
           }
          ],
          "scatterpolargl": [
           {
            "marker": {
             "colorbar": {
              "outlinewidth": 0,
              "ticks": ""
             }
            },
            "type": "scatterpolargl"
           }
          ],
          "scatterternary": [
           {
            "marker": {
             "colorbar": {
              "outlinewidth": 0,
              "ticks": ""
             }
            },
            "type": "scatterternary"
           }
          ],
          "surface": [
           {
            "colorbar": {
             "outlinewidth": 0,
             "ticks": ""
            },
            "colorscale": [
             [
              0,
              "#0d0887"
             ],
             [
              0.1111111111111111,
              "#46039f"
             ],
             [
              0.2222222222222222,
              "#7201a8"
             ],
             [
              0.3333333333333333,
              "#9c179e"
             ],
             [
              0.4444444444444444,
              "#bd3786"
             ],
             [
              0.5555555555555556,
              "#d8576b"
             ],
             [
              0.6666666666666666,
              "#ed7953"
             ],
             [
              0.7777777777777778,
              "#fb9f3a"
             ],
             [
              0.8888888888888888,
              "#fdca26"
             ],
             [
              1,
              "#f0f921"
             ]
            ],
            "type": "surface"
           }
          ],
          "table": [
           {
            "cells": {
             "fill": {
              "color": "#EBF0F8"
             },
             "line": {
              "color": "white"
             }
            },
            "header": {
             "fill": {
              "color": "#C8D4E3"
             },
             "line": {
              "color": "white"
             }
            },
            "type": "table"
           }
          ]
         },
         "layout": {
          "annotationdefaults": {
           "arrowcolor": "#2a3f5f",
           "arrowhead": 0,
           "arrowwidth": 1
          },
          "autotypenumbers": "strict",
          "coloraxis": {
           "colorbar": {
            "outlinewidth": 0,
            "ticks": ""
           }
          },
          "colorscale": {
           "diverging": [
            [
             0,
             "#8e0152"
            ],
            [
             0.1,
             "#c51b7d"
            ],
            [
             0.2,
             "#de77ae"
            ],
            [
             0.3,
             "#f1b6da"
            ],
            [
             0.4,
             "#fde0ef"
            ],
            [
             0.5,
             "#f7f7f7"
            ],
            [
             0.6,
             "#e6f5d0"
            ],
            [
             0.7,
             "#b8e186"
            ],
            [
             0.8,
             "#7fbc41"
            ],
            [
             0.9,
             "#4d9221"
            ],
            [
             1,
             "#276419"
            ]
           ],
           "sequential": [
            [
             0,
             "#0d0887"
            ],
            [
             0.1111111111111111,
             "#46039f"
            ],
            [
             0.2222222222222222,
             "#7201a8"
            ],
            [
             0.3333333333333333,
             "#9c179e"
            ],
            [
             0.4444444444444444,
             "#bd3786"
            ],
            [
             0.5555555555555556,
             "#d8576b"
            ],
            [
             0.6666666666666666,
             "#ed7953"
            ],
            [
             0.7777777777777778,
             "#fb9f3a"
            ],
            [
             0.8888888888888888,
             "#fdca26"
            ],
            [
             1,
             "#f0f921"
            ]
           ],
           "sequentialminus": [
            [
             0,
             "#0d0887"
            ],
            [
             0.1111111111111111,
             "#46039f"
            ],
            [
             0.2222222222222222,
             "#7201a8"
            ],
            [
             0.3333333333333333,
             "#9c179e"
            ],
            [
             0.4444444444444444,
             "#bd3786"
            ],
            [
             0.5555555555555556,
             "#d8576b"
            ],
            [
             0.6666666666666666,
             "#ed7953"
            ],
            [
             0.7777777777777778,
             "#fb9f3a"
            ],
            [
             0.8888888888888888,
             "#fdca26"
            ],
            [
             1,
             "#f0f921"
            ]
           ]
          },
          "colorway": [
           "#636efa",
           "#EF553B",
           "#00cc96",
           "#ab63fa",
           "#FFA15A",
           "#19d3f3",
           "#FF6692",
           "#B6E880",
           "#FF97FF",
           "#FECB52"
          ],
          "font": {
           "color": "#2a3f5f"
          },
          "geo": {
           "bgcolor": "white",
           "lakecolor": "white",
           "landcolor": "#E5ECF6",
           "showlakes": true,
           "showland": true,
           "subunitcolor": "white"
          },
          "hoverlabel": {
           "align": "left"
          },
          "hovermode": "closest",
          "mapbox": {
           "style": "light"
          },
          "paper_bgcolor": "white",
          "plot_bgcolor": "#E5ECF6",
          "polar": {
           "angularaxis": {
            "gridcolor": "white",
            "linecolor": "white",
            "ticks": ""
           },
           "bgcolor": "#E5ECF6",
           "radialaxis": {
            "gridcolor": "white",
            "linecolor": "white",
            "ticks": ""
           }
          },
          "scene": {
           "xaxis": {
            "backgroundcolor": "#E5ECF6",
            "gridcolor": "white",
            "gridwidth": 2,
            "linecolor": "white",
            "showbackground": true,
            "ticks": "",
            "zerolinecolor": "white"
           },
           "yaxis": {
            "backgroundcolor": "#E5ECF6",
            "gridcolor": "white",
            "gridwidth": 2,
            "linecolor": "white",
            "showbackground": true,
            "ticks": "",
            "zerolinecolor": "white"
           },
           "zaxis": {
            "backgroundcolor": "#E5ECF6",
            "gridcolor": "white",
            "gridwidth": 2,
            "linecolor": "white",
            "showbackground": true,
            "ticks": "",
            "zerolinecolor": "white"
           }
          },
          "shapedefaults": {
           "line": {
            "color": "#2a3f5f"
           }
          },
          "ternary": {
           "aaxis": {
            "gridcolor": "white",
            "linecolor": "white",
            "ticks": ""
           },
           "baxis": {
            "gridcolor": "white",
            "linecolor": "white",
            "ticks": ""
           },
           "bgcolor": "#E5ECF6",
           "caxis": {
            "gridcolor": "white",
            "linecolor": "white",
            "ticks": ""
           }
          },
          "title": {
           "x": 0.05
          },
          "xaxis": {
           "automargin": true,
           "gridcolor": "white",
           "linecolor": "white",
           "ticks": "",
           "title": {
            "standoff": 15
           },
           "zerolinecolor": "white",
           "zerolinewidth": 2
          },
          "yaxis": {
           "automargin": true,
           "gridcolor": "white",
           "linecolor": "white",
           "ticks": "",
           "title": {
            "standoff": 15
           },
           "zerolinecolor": "white",
           "zerolinewidth": 2
          }
         }
        }
       }
      }
     },
     "metadata": {},
     "output_type": "display_data"
    }
   ],
   "source": [
    "##Main Products per Country\n",
    "\n",
    "##HERE WE'LL GET A VIZ IN ORDER TO MAP THE MAIN SUPPLIER FOR EACH COUNTRY IN OUR SUPPLIER BASE\n",
    "\n",
    "\n",
    "supplier_per_prod = sqldf('''\n",
    "\n",
    "WITH RANKED AS(\n",
    "SELECT sup_db.'Country',\n",
    "                                sales_db.'Product',COUNT(sup_db.'Country') AS Count_per_Country,\n",
    "                                RANK() OVER (PARTITION BY sup_db.'Country'\n",
    "                                ORDER BY COUNT(sup_db.'Country') DESC\n",
    "                        ) AS RANK\n",
    "\n",
    "                                from sales_df sales_db\n",
    "\n",
    "                                left join supplier_df sup_db  on (sales_db.'Contract' = sup_db.'Contract')\n",
    "\n",
    "                        \n",
    "                                \n",
    "\n",
    "        Group by sup_db.'Country',sales_db.'Product'\n",
    "        \n",
    "        order by sup_db.'Country',COUNT(sup_db.'Country') desc)\n",
    "\n",
    "\n",
    ",RANKED_COUNTRY AS(\n",
    "SELECT sup_db.'Country',\n",
    "                                COUNT(sup_db.'Country') AS Count_per_Country,\n",
    "                                RANK() OVER (ORDER BY COUNT(sup_db.'Country') DESC\n",
    "                        ) AS RANK_COUNTRY\n",
    "\n",
    "                                from sales_df sales_db\n",
    "\n",
    "                                left join supplier_df sup_db  on (sales_db.'Contract' = sup_db.'Contract')\n",
    "\n",
    "                        \n",
    "                                \n",
    "\n",
    "        Group by sup_db.'Country'\n",
    "        \n",
    "        order by sup_db.'Country',COUNT(sup_db.'Country') desc)\n",
    "\n",
    "\n",
    "\n",
    "                                \n",
    "        SELECT RANKED.Country,\n",
    "                        RANKED.Product,\t\n",
    "                        RANKED.Count_per_Country,\n",
    "                        RANKED.RANK,\n",
    "                        RANKED_COUNTRY.RANK_COUNTRY\n",
    "                        \n",
    "                                FROM RANKED\n",
    "                LEFT JOIN RANKED_COUNTRY ON (RANKED.Country = RANKED_COUNTRY.Country)\n",
    "                        \n",
    "                        WHERE RANK < 4 and RANK_COUNTRY <6\n",
    "                        \n",
    "                        ORDER BY \n",
    "                        \n",
    "                        RANKED_COUNTRY.RANK_COUNTRY,\t\n",
    "                        RANKED.Count_per_Country DESC\n",
    "\n",
    "\n",
    "''')\n",
    "\n",
    "print('The country with most sales is', supplier_per_prod['Country'][0])\n",
    "print('Below we can see a list of the top 5 Coutnries with most deliveries, with their individual top 3 products:')\n",
    "\n",
    "\n",
    "display(supplier_per_prod)\n",
    "print('Now lets make a sunburst representation so we can better visualize de data:')\n",
    "fig = px.sunburst(supplier_per_prod, path=['Country', 'Product'], values='Count_per_Country')\n",
    "fig.show()"
   ]
  }
 ],
 "metadata": {
  "kernelspec": {
   "display_name": "Python 3",
   "language": "python",
   "name": "python3"
  },
  "language_info": {
   "codemirror_mode": {
    "name": "ipython",
    "version": 3
   },
   "file_extension": ".py",
   "mimetype": "text/x-python",
   "name": "python",
   "nbconvert_exporter": "python",
   "pygments_lexer": "ipython3",
   "version": "3.11.5"
  },
  "orig_nbformat": 4
 },
 "nbformat": 4,
 "nbformat_minor": 2
}
