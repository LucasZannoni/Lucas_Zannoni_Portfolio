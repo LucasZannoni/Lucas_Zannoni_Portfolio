{
 "cells": [
  {
   "cell_type": "markdown",
   "metadata": {},
   "source": [
    "# Classifying Legendary Pokemon\n",
    "\n",
    "Our love for pokemon as children is no secret. As we grow up we turn to other hobbies but the memories of that time always remain.\n",
    "\n",
    "I'll be using this series as inspiration for this project, where, using the pokedex data, with all pokemons' stats, i'll try to predict which ones of them are legendary or not.\n",
    "\n",
    "Hope you'll enjoy!!"
   ]
  },
  {
   "cell_type": "markdown",
   "metadata": {},
   "source": [
    "# Importing Libraries\n",
    "\n",
    "First of all, let's import some libraries."
   ]
  },
  {
   "cell_type": "code",
   "execution_count": 21,
   "metadata": {},
   "outputs": [],
   "source": [
    "##Importing Libraries\n",
    "\n",
    "import numpy as np\n",
    "import pandas as pd\n",
    "import seaborn as sns\n",
    "\n",
    "import matplotlib.pyplot as plt\n",
    "%matplotlib inline\n",
    "import warnings\n",
    "warnings.filterwarnings('ignore')\n",
    "from pandasql import sqldf\n",
    "\n",
    "from sklearn.model_selection import train_test_split\n",
    "import category_encoders as ce\n",
    "\n",
    "from sklearn.tree import DecisionTreeClassifier\n",
    "from sklearn.metrics import accuracy_score\n",
    "from sklearn import tree\n",
    "\n",
    "from sklearn.metrics import confusion_matrix\n",
    "\n",
    "from sklearn.metrics import classification_report\n",
    "\n",
    "import torch\n",
    "from torch import nn"
   ]
  },
  {
   "cell_type": "markdown",
   "metadata": {},
   "source": [
    "# Importing Main Dataset\n",
    "\n",
    "Now let's get the ata we'll use in this analysis."
   ]
  },
  {
   "cell_type": "code",
   "execution_count": 22,
   "metadata": {},
   "outputs": [
    {
     "data": {
      "text/html": [
       "<div>\n",
       "<style scoped>\n",
       "    .dataframe tbody tr th:only-of-type {\n",
       "        vertical-align: middle;\n",
       "    }\n",
       "\n",
       "    .dataframe tbody tr th {\n",
       "        vertical-align: top;\n",
       "    }\n",
       "\n",
       "    .dataframe thead th {\n",
       "        text-align: right;\n",
       "    }\n",
       "</style>\n",
       "<table border=\"1\" class=\"dataframe\">\n",
       "  <thead>\n",
       "    <tr style=\"text-align: right;\">\n",
       "      <th></th>\n",
       "      <th>#</th>\n",
       "      <th>Name</th>\n",
       "      <th>Type 1</th>\n",
       "      <th>Type 2</th>\n",
       "      <th>Total</th>\n",
       "      <th>HP</th>\n",
       "      <th>Attack</th>\n",
       "      <th>Defense</th>\n",
       "      <th>Sp. Atk</th>\n",
       "      <th>Sp. Def</th>\n",
       "      <th>Speed</th>\n",
       "      <th>Generation</th>\n",
       "      <th>Legendary</th>\n",
       "    </tr>\n",
       "  </thead>\n",
       "  <tbody>\n",
       "    <tr>\n",
       "      <th>0</th>\n",
       "      <td>1</td>\n",
       "      <td>Bulbasaur</td>\n",
       "      <td>Grass</td>\n",
       "      <td>Poison</td>\n",
       "      <td>318</td>\n",
       "      <td>45</td>\n",
       "      <td>49</td>\n",
       "      <td>49</td>\n",
       "      <td>65</td>\n",
       "      <td>65</td>\n",
       "      <td>45</td>\n",
       "      <td>1</td>\n",
       "      <td>False</td>\n",
       "    </tr>\n",
       "    <tr>\n",
       "      <th>1</th>\n",
       "      <td>2</td>\n",
       "      <td>Ivysaur</td>\n",
       "      <td>Grass</td>\n",
       "      <td>Poison</td>\n",
       "      <td>405</td>\n",
       "      <td>60</td>\n",
       "      <td>62</td>\n",
       "      <td>63</td>\n",
       "      <td>80</td>\n",
       "      <td>80</td>\n",
       "      <td>60</td>\n",
       "      <td>1</td>\n",
       "      <td>False</td>\n",
       "    </tr>\n",
       "    <tr>\n",
       "      <th>2</th>\n",
       "      <td>3</td>\n",
       "      <td>Venusaur</td>\n",
       "      <td>Grass</td>\n",
       "      <td>Poison</td>\n",
       "      <td>525</td>\n",
       "      <td>80</td>\n",
       "      <td>82</td>\n",
       "      <td>83</td>\n",
       "      <td>100</td>\n",
       "      <td>100</td>\n",
       "      <td>80</td>\n",
       "      <td>1</td>\n",
       "      <td>False</td>\n",
       "    </tr>\n",
       "    <tr>\n",
       "      <th>3</th>\n",
       "      <td>3</td>\n",
       "      <td>VenusaurMega Venusaur</td>\n",
       "      <td>Grass</td>\n",
       "      <td>Poison</td>\n",
       "      <td>625</td>\n",
       "      <td>80</td>\n",
       "      <td>100</td>\n",
       "      <td>123</td>\n",
       "      <td>122</td>\n",
       "      <td>120</td>\n",
       "      <td>80</td>\n",
       "      <td>1</td>\n",
       "      <td>False</td>\n",
       "    </tr>\n",
       "    <tr>\n",
       "      <th>4</th>\n",
       "      <td>4</td>\n",
       "      <td>Charmander</td>\n",
       "      <td>Fire</td>\n",
       "      <td>NaN</td>\n",
       "      <td>309</td>\n",
       "      <td>39</td>\n",
       "      <td>52</td>\n",
       "      <td>43</td>\n",
       "      <td>60</td>\n",
       "      <td>50</td>\n",
       "      <td>65</td>\n",
       "      <td>1</td>\n",
       "      <td>False</td>\n",
       "    </tr>\n",
       "  </tbody>\n",
       "</table>\n",
       "</div>"
      ],
      "text/plain": [
       "   #                   Name Type 1  Type 2  Total  HP  Attack  Defense  \\\n",
       "0  1              Bulbasaur  Grass  Poison    318  45      49       49   \n",
       "1  2                Ivysaur  Grass  Poison    405  60      62       63   \n",
       "2  3               Venusaur  Grass  Poison    525  80      82       83   \n",
       "3  3  VenusaurMega Venusaur  Grass  Poison    625  80     100      123   \n",
       "4  4             Charmander   Fire     NaN    309  39      52       43   \n",
       "\n",
       "   Sp. Atk  Sp. Def  Speed  Generation  Legendary  \n",
       "0       65       65     45           1      False  \n",
       "1       80       80     60           1      False  \n",
       "2      100      100     80           1      False  \n",
       "3      122      120     80           1      False  \n",
       "4       60       50     65           1      False  "
      ]
     },
     "metadata": {},
     "output_type": "display_data"
    }
   ],
   "source": [
    "##Here I'll import my main dataset\n",
    "\n",
    "pokemon_db =  pd.read_csv('Pokemon.csv',encoding='utf-8', sep=',', header=0)\n",
    "\n",
    "display(pokemon_db.head())"
   ]
  },
  {
   "cell_type": "markdown",
   "metadata": {},
   "source": [
    "# NOW I'LL MAKE SOME EXPLORATORY ANALYSIS INTO THE DATA"
   ]
  },
  {
   "cell_type": "markdown",
   "metadata": {},
   "source": [
    "### 1. DISCOVERING THE MOST PREDOMINANT POKEMON TYPES"
   ]
  },
  {
   "cell_type": "code",
   "execution_count": 23,
   "metadata": {},
   "outputs": [
    {
     "name": "stdout",
     "output_type": "stream",
     "text": [
      "Here we can see the most common types of Pokemon in all the regions. The most common type is Water followed by Normal .\n",
      "\n"
     ]
    },
    {
     "data": {
      "text/html": [
       "<div>\n",
       "<style scoped>\n",
       "    .dataframe tbody tr th:only-of-type {\n",
       "        vertical-align: middle;\n",
       "    }\n",
       "\n",
       "    .dataframe tbody tr th {\n",
       "        vertical-align: top;\n",
       "    }\n",
       "\n",
       "    .dataframe thead th {\n",
       "        text-align: right;\n",
       "    }\n",
       "</style>\n",
       "<table border=\"1\" class=\"dataframe\">\n",
       "  <thead>\n",
       "    <tr style=\"text-align: right;\">\n",
       "      <th></th>\n",
       "      <th>Type 1</th>\n",
       "      <th>Count</th>\n",
       "    </tr>\n",
       "  </thead>\n",
       "  <tbody>\n",
       "    <tr>\n",
       "      <th>0</th>\n",
       "      <td>Water</td>\n",
       "      <td>112</td>\n",
       "    </tr>\n",
       "    <tr>\n",
       "      <th>1</th>\n",
       "      <td>Normal</td>\n",
       "      <td>98</td>\n",
       "    </tr>\n",
       "    <tr>\n",
       "      <th>2</th>\n",
       "      <td>Grass</td>\n",
       "      <td>70</td>\n",
       "    </tr>\n",
       "    <tr>\n",
       "      <th>3</th>\n",
       "      <td>Bug</td>\n",
       "      <td>69</td>\n",
       "    </tr>\n",
       "    <tr>\n",
       "      <th>4</th>\n",
       "      <td>Psychic</td>\n",
       "      <td>57</td>\n",
       "    </tr>\n",
       "    <tr>\n",
       "      <th>5</th>\n",
       "      <td>Fire</td>\n",
       "      <td>52</td>\n",
       "    </tr>\n",
       "    <tr>\n",
       "      <th>6</th>\n",
       "      <td>Rock</td>\n",
       "      <td>44</td>\n",
       "    </tr>\n",
       "    <tr>\n",
       "      <th>7</th>\n",
       "      <td>Electric</td>\n",
       "      <td>44</td>\n",
       "    </tr>\n",
       "    <tr>\n",
       "      <th>8</th>\n",
       "      <td>Ground</td>\n",
       "      <td>32</td>\n",
       "    </tr>\n",
       "    <tr>\n",
       "      <th>9</th>\n",
       "      <td>Ghost</td>\n",
       "      <td>32</td>\n",
       "    </tr>\n",
       "    <tr>\n",
       "      <th>10</th>\n",
       "      <td>Dragon</td>\n",
       "      <td>32</td>\n",
       "    </tr>\n",
       "    <tr>\n",
       "      <th>11</th>\n",
       "      <td>Dark</td>\n",
       "      <td>31</td>\n",
       "    </tr>\n",
       "    <tr>\n",
       "      <th>12</th>\n",
       "      <td>Poison</td>\n",
       "      <td>28</td>\n",
       "    </tr>\n",
       "    <tr>\n",
       "      <th>13</th>\n",
       "      <td>Steel</td>\n",
       "      <td>27</td>\n",
       "    </tr>\n",
       "    <tr>\n",
       "      <th>14</th>\n",
       "      <td>Fighting</td>\n",
       "      <td>27</td>\n",
       "    </tr>\n",
       "    <tr>\n",
       "      <th>15</th>\n",
       "      <td>Ice</td>\n",
       "      <td>24</td>\n",
       "    </tr>\n",
       "    <tr>\n",
       "      <th>16</th>\n",
       "      <td>Fairy</td>\n",
       "      <td>17</td>\n",
       "    </tr>\n",
       "    <tr>\n",
       "      <th>17</th>\n",
       "      <td>Flying</td>\n",
       "      <td>4</td>\n",
       "    </tr>\n",
       "  </tbody>\n",
       "</table>\n",
       "</div>"
      ],
      "text/plain": [
       "      Type 1  Count\n",
       "0      Water    112\n",
       "1     Normal     98\n",
       "2      Grass     70\n",
       "3        Bug     69\n",
       "4    Psychic     57\n",
       "5       Fire     52\n",
       "6       Rock     44\n",
       "7   Electric     44\n",
       "8     Ground     32\n",
       "9      Ghost     32\n",
       "10    Dragon     32\n",
       "11      Dark     31\n",
       "12    Poison     28\n",
       "13     Steel     27\n",
       "14  Fighting     27\n",
       "15       Ice     24\n",
       "16     Fairy     17\n",
       "17    Flying      4"
      ]
     },
     "metadata": {},
     "output_type": "display_data"
    },
    {
     "name": "stdout",
     "output_type": "stream",
     "text": [
      "Now lets make some viz so we can better visualize this data. Ill use a pie chart here.\n"
     ]
    },
    {
     "data": {
      "text/plain": [
       "Text(0.5, 1.0, 'Pokemon Type Distribution [%]')"
      ]
     },
     "execution_count": 23,
     "metadata": {},
     "output_type": "execute_result"
    },
    {
     "data": {
      "image/png": "[encoded data removed]",
      "text/plain": [
       "<Figure size 600x600 with 1 Axes>"
      ]
     },
     "metadata": {},
     "output_type": "display_data"
    }
   ],
   "source": [
    "##Let's see the pokemon's most common types\n",
    "\n",
    "\n",
    "\n",
    "pokemon_types_db = sqldf('''\n",
    "\n",
    "SELECT pokemon_db.'Type 1', COUNT(pokemon_db.'Type 1') as Count\n",
    "\n",
    "                    FROM pokemon_db\n",
    "\n",
    "        GROUP BY pokemon_db.'Type 1'\n",
    "        \n",
    "        ORDER BY COUNT(pokemon_db.'Type 1') DESC\n",
    "\n",
    "''')\n",
    "\n",
    "\n",
    "print('Here we can see the most common types of Pokemon in all the regions. The most common type is',pokemon_types_db['Type 1'][0],'followed by',pokemon_types_db['Type 1'][1],'.\\n')\n",
    "display(pokemon_types_db)\n",
    "\n",
    "\n",
    "\n",
    "fig, ax = plt.subplots(1,1,figsize=(6,6))\n",
    "\n",
    "\n",
    "print('Now let''s make some viz so we can better visualize this data. I''ll use a pie chart here.')\n",
    "\n",
    "\n",
    "##Now We'll make some graphics in order to get a better visualization of the data\n",
    "\n",
    "##creates explode array \n",
    "\n",
    "my_explode = [0.05]*len(pokemon_types_db['Count'])\n",
    "\n",
    "\n",
    "##creates pie chart\n",
    "ax.pie(pokemon_types_db['Count'],  labels=pokemon_types_db['Type 1'],autopct='%1.1f%%', pctdistance=0.85,  explode=my_explode)\n",
    " \n",
    "# draw circle\n",
    "centre_circle = plt.Circle((0, 0), 0.70, fc='white')\n",
    "fig1 = plt.gcf()\n",
    " \n",
    "# Adding Circle in Pie chart\n",
    "fig1.gca().add_artist(centre_circle)\n",
    " \n",
    "# Adding Title of chart\n",
    "ax.set_title('Pokemon Type Distribution [%]')"
   ]
  },
  {
   "cell_type": "markdown",
   "metadata": {},
   "source": [
    "### 2.IDENTIFYING DISPERSION OF POKEMON PER TOTAL AND HP"
   ]
  },
  {
   "cell_type": "code",
   "execution_count": 24,
   "metadata": {},
   "outputs": [
    {
     "name": "stdout",
     "output_type": "stream",
     "text": [
      "\n",
      "Here Ill just make a subquery so I can replace the 0s and 1s in the Legendary Collumn by Legendary and Non-Legendary.\n",
      "\n",
      "Here we are able to see that legendary pokemon have a tendency to have higher total stats and attack attributes. We also have to be careful, because there some normal pokemon that figure among the legendary in terms of stats levels.\n"
     ]
    },
    {
     "data": {
      "image/png": "[encoded data removed]",
      "text/plain": [
       "<Figure size 640x480 with 1 Axes>"
      ]
     },
     "metadata": {},
     "output_type": "display_data"
    }
   ],
   "source": [
    "##Here I''ll just make a subquery so I can replace the 0s and 1s in the Legendary Collumn by Legendary and Non-Legendary\n",
    "print('\\nHere I''ll just make a subquery so I can replace the 0s and 1s in the Legendary Collumn by Legendary and Non-Legendary.')\n",
    "\n",
    "pokemon_new_legend_db = sqldf('''\n",
    "\n",
    "SELECT *, CASE WHEN Legendary in (0) then 'Blue' else 'Orange'  end as 'Legendary Color'\n",
    "\n",
    "                            From pokemon_db \n",
    "\n",
    "\n",
    "''')\n",
    "\n",
    "\n",
    "print('\\nHere we are able to see that legendary pokemon have a tendency to have higher total stats and attack attributes. We also have to be careful, because there some normal pokemon that figure among the legendary in terms of stats levels.')\n",
    "\n",
    "\n",
    "##Now we'll plot this info into a scatterplot so we can better understand it\n",
    "\n",
    "fig, ax = plt.subplots()\n",
    "\n",
    "ax.scatter( pokemon_new_legend_db.query('Legendary==0')['Attack'],pokemon_new_legend_db.query('Legendary==0')['Total'])\n",
    "ax.scatter( pokemon_new_legend_db.query('Legendary==1')['Attack'],pokemon_new_legend_db.query('Legendary==1')['Total'])\n",
    "ax.legend([\"Non-Legendary\" , \"Legendary\"])\n",
    "ax.set_ylabel('Total Attributes')\n",
    "ax.set_xlabel('Attack')\n",
    "ax.set_title('Scatter - Total Stats x Attack')\n",
    "\n",
    "plt.show()"
   ]
  },
  {
   "cell_type": "markdown",
   "metadata": {},
   "source": [
    "# Neural Network Building\n",
    "\n",
    "Now we'll start building our neural network."
   ]
  },
  {
   "cell_type": "markdown",
   "metadata": {},
   "source": [
    "## 1. Split Dataset\n",
    "Let's split our dataset into train and test data."
   ]
  },
  {
   "cell_type": "code",
   "execution_count": 25,
   "metadata": {},
   "outputs": [],
   "source": [
    "##Separating my analysis variables\n",
    "##We'll use as independent variables all columns except the one we want to estimate with our decision tree.\n",
    "\n",
    "X = pokemon_db.drop(['Legendary','Name','#','Generation','Speed','Defense','Sp. Atk','Sp. Def','Type 1','Type 2'], axis=1)\n",
    "y = pokemon_db['Legendary']"
   ]
  },
  {
   "cell_type": "code",
   "execution_count": 26,
   "metadata": {},
   "outputs": [
    {
     "data": {
      "text/html": [
       "<div>\n",
       "<style scoped>\n",
       "    .dataframe tbody tr th:only-of-type {\n",
       "        vertical-align: middle;\n",
       "    }\n",
       "\n",
       "    .dataframe tbody tr th {\n",
       "        vertical-align: top;\n",
       "    }\n",
       "\n",
       "    .dataframe thead th {\n",
       "        text-align: right;\n",
       "    }\n",
       "</style>\n",
       "<table border=\"1\" class=\"dataframe\">\n",
       "  <thead>\n",
       "    <tr style=\"text-align: right;\">\n",
       "      <th></th>\n",
       "      <th>Total</th>\n",
       "      <th>HP</th>\n",
       "      <th>Attack</th>\n",
       "    </tr>\n",
       "  </thead>\n",
       "  <tbody>\n",
       "    <tr>\n",
       "      <th>239</th>\n",
       "      <td>450</td>\n",
       "      <td>100</td>\n",
       "      <td>100</td>\n",
       "    </tr>\n",
       "    <tr>\n",
       "      <th>88</th>\n",
       "      <td>325</td>\n",
       "      <td>25</td>\n",
       "      <td>35</td>\n",
       "    </tr>\n",
       "    <tr>\n",
       "      <th>674</th>\n",
       "      <td>305</td>\n",
       "      <td>55</td>\n",
       "      <td>70</td>\n",
       "    </tr>\n",
       "    <tr>\n",
       "      <th>172</th>\n",
       "      <td>314</td>\n",
       "      <td>50</td>\n",
       "      <td>65</td>\n",
       "    </tr>\n",
       "    <tr>\n",
       "      <th>84</th>\n",
       "      <td>500</td>\n",
       "      <td>65</td>\n",
       "      <td>100</td>\n",
       "    </tr>\n",
       "    <tr>\n",
       "      <th>...</th>\n",
       "      <td>...</td>\n",
       "      <td>...</td>\n",
       "      <td>...</td>\n",
       "    </tr>\n",
       "    <tr>\n",
       "      <th>461</th>\n",
       "      <td>424</td>\n",
       "      <td>70</td>\n",
       "      <td>94</td>\n",
       "    </tr>\n",
       "    <tr>\n",
       "      <th>56</th>\n",
       "      <td>405</td>\n",
       "      <td>35</td>\n",
       "      <td>80</td>\n",
       "    </tr>\n",
       "    <tr>\n",
       "      <th>759</th>\n",
       "      <td>500</td>\n",
       "      <td>72</td>\n",
       "      <td>105</td>\n",
       "    </tr>\n",
       "    <tr>\n",
       "      <th>721</th>\n",
       "      <td>307</td>\n",
       "      <td>40</td>\n",
       "      <td>45</td>\n",
       "    </tr>\n",
       "    <tr>\n",
       "      <th>329</th>\n",
       "      <td>480</td>\n",
       "      <td>50</td>\n",
       "      <td>105</td>\n",
       "    </tr>\n",
       "  </tbody>\n",
       "</table>\n",
       "<p>720 rows × 3 columns</p>\n",
       "</div>"
      ],
      "text/plain": [
       "     Total   HP  Attack\n",
       "239    450  100     100\n",
       "88     325   25      35\n",
       "674    305   55      70\n",
       "172    314   50      65\n",
       "84     500   65     100\n",
       "..     ...  ...     ...\n",
       "461    424   70      94\n",
       "56     405   35      80\n",
       "759    500   72     105\n",
       "721    307   40      45\n",
       "329    480   50     105\n",
       "\n",
       "[720 rows x 3 columns]"
      ]
     },
     "metadata": {},
     "output_type": "display_data"
    }
   ],
   "source": [
    "##Creating train and test selections\n",
    "\n",
    "X_train, X_test, y_train, y_test = train_test_split(X, y, test_size = 0.1)\n",
    "\n",
    "display(X_train)"
   ]
  },
  {
   "cell_type": "markdown",
   "metadata": {},
   "source": [
    "## 2. Encoding Data\n",
    "\n",
    "In order for our model to work, we'll need to encode all non-numerical variables."
   ]
  },
  {
   "cell_type": "code",
   "execution_count": 27,
   "metadata": {},
   "outputs": [],
   "source": [
    "encoder = ce.OrdinalEncoder(cols=['Type 1','Type 2'])##, 'Total', 'HP', 'Attack', 'Defense','Sp. Atk', 'Sp. Def', 'Speed'])\n",
    "##X_train = encoder.fit_transform(X_train)\n",
    "##X_test = encoder.transform(X_test)\n",
    "\n",
    "encoder2 = ce.OrdinalEncoder(cols=['Legendary'])\n",
    "y_train = encoder2.fit_transform(y_train)\n",
    "y_test = encoder2.fit_transform(y_test)\n",
    "\n",
    "\n",
    "##Since the encoding stars at 1 and not zero (as the list index) we'll need to subtract 1 from 1 in order for these values to match.\n",
    "y_train['Legendary'] = y_train['Legendary']  -1\n",
    "y_test['Legendary'] = y_test['Legendary']  -1\n",
    "\n",
    "##display(max(y_train['Legendary']))\n",
    "\n",
    "##display(y_test)"
   ]
  },
  {
   "cell_type": "markdown",
   "metadata": {},
   "source": [
    "## 3. Create Tensors\n",
    "\n",
    "Now that we have our sets, we need to convert them to the format of pytorch tensors, so the library can use them"
   ]
  },
  {
   "cell_type": "code",
   "execution_count": 28,
   "metadata": {},
   "outputs": [],
   "source": [
    "# 2. Turn data into tensors\n",
    "\n",
    "\n",
    "X_train = torch.tensor(X_train.values).type(torch.float)\n",
    "y_train = torch.tensor(y_train.values).type(torch.float)\n",
    "\n",
    "X_test = torch.tensor(X_test.values).type(torch.float)\n",
    "y_test = torch.tensor(y_test.values).type(torch.float)"
   ]
  },
  {
   "cell_type": "markdown",
   "metadata": {},
   "source": [
    "Here i'll just define the part of the computer that will process the neural network."
   ]
  },
  {
   "cell_type": "code",
   "execution_count": 29,
   "metadata": {},
   "outputs": [
    {
     "data": {
      "text/plain": [
       "'cpu'"
      ]
     },
     "execution_count": 29,
     "metadata": {},
     "output_type": "execute_result"
    }
   ],
   "source": [
    "# Create device agnostic code\n",
    "device = \"cuda\" if torch.cuda.is_available() else \"cpu\"\n",
    "device"
   ]
  },
  {
   "cell_type": "markdown",
   "metadata": {},
   "source": [
    "## 4. Building Our Model\n",
    "\n",
    "Now we'll build our neural network model.\n",
    "\n",
    "Since the pytorch is a very flexible library, we'll create a class with all the modules we need into our network."
   ]
  },
  {
   "cell_type": "code",
   "execution_count": 30,
   "metadata": {},
   "outputs": [
    {
     "data": {
      "text/plain": [
       "pkmodel(\n",
       "  (linear_layer_stack): Sequential(\n",
       "    (0): Linear(in_features=3, out_features=2, bias=True)\n",
       "    (1): ReLU()\n",
       "  )\n",
       ")"
      ]
     },
     "execution_count": 30,
     "metadata": {},
     "output_type": "execute_result"
    }
   ],
   "source": [
    "# Build model\n",
    "class pkmodel(nn.Module):\n",
    "    def __init__(self, input_features, output_features, hidden_units):\n",
    "        \"\"\"Initializes all required hyperparameters for a multi-class classification model.\n",
    "\n",
    "        Args:\n",
    "            input_features (int): Number of input features to the model.\n",
    "            out_features (int): Number of output features of the model\n",
    "            (how many classes there are).\n",
    "            hidden_units (int): Number of hidden units between layers, default 8.\n",
    "        \"\"\"\n",
    "        super().__init__()\n",
    "        self.linear_layer_stack = nn.Sequential(\n",
    "            nn.Linear(in_features=input_features, out_features=hidden_units),\n",
    "            nn.ReLU(), #3 <- does our dataset require non-linear layers? (try uncommenting and see if the results change)\n",
    "            \n",
    "        )\n",
    "\n",
    "    def forward(self, x):\n",
    "        return self.linear_layer_stack(x)\n",
    "\n",
    "# Create an instance of model and send it to the target device\n",
    "model_4 = pkmodel(input_features=3, ##Number of columns in input df\n",
    "                    output_features=2, ##Number of classification options\n",
    "                    hidden_units=2).to(device)\n",
    "model_4"
   ]
  },
  {
   "cell_type": "markdown",
   "metadata": {},
   "source": [
    "## 5. Creating Loss and Optmizer function\n",
    "\n",
    "Here we'll define the main metrics used in order to train our model, the loss function and the optmizer."
   ]
  },
  {
   "cell_type": "code",
   "execution_count": 31,
   "metadata": {},
   "outputs": [],
   "source": [
    "# Create loss and optimizer\n",
    "loss_fn = nn.CrossEntropyLoss()\n",
    "optimizer = torch.optim.SGD(model_4.parameters(),\n",
    "                            lr=0.000010) # exercise: try changing the learning rate here and seeing what happens to the model's performance\n",
    "\n",
    "                            ##if logits return nan, try to lower the lr"
   ]
  },
  {
   "cell_type": "markdown",
   "metadata": {},
   "source": [
    "## 6. Test our Model\n",
    "\n",
    "Let's make 1 prediction in order to test our model functionality."
   ]
  },
  {
   "cell_type": "code",
   "execution_count": 32,
   "metadata": {},
   "outputs": [
    {
     "name": "stdout",
     "output_type": "stream",
     "text": [
      "tensor([[  0.0000, 141.4772],\n",
      "        [  0.0000, 112.7007],\n",
      "        [  0.0000, 152.9398],\n",
      "        [  0.0000, 181.4287],\n",
      "        [  0.0000, 176.7766]], grad_fn=<SliceBackward0>)\n",
      "tensor([[0., 1.],\n",
      "        [0., 1.],\n",
      "        [0., 1.],\n",
      "        [0., 1.],\n",
      "        [0., 1.]], grad_fn=<SliceBackward0>)\n"
     ]
    }
   ],
   "source": [
    "# Make prediction logits with model\n",
    "y_logits = model_4(X_test.to(device))\n",
    "\n",
    "# Perform softmax calculation on logits across dimension 1 to get prediction probabilities\n",
    "y_pred_probs = torch.softmax(y_logits, dim=1)\n",
    "print(y_logits[:5])\n",
    "print(y_pred_probs[:5])"
   ]
  },
  {
   "cell_type": "code",
   "execution_count": 33,
   "metadata": {},
   "outputs": [
    {
     "name": "stdout",
     "output_type": "stream",
     "text": [
      "tensor([0., 1.], grad_fn=<SelectBackward0>)\n",
      "Most likely prediction: tensor(1)\n"
     ]
    }
   ],
   "source": [
    "# Which class does the model think is *most* likely at the index 0 sample?\n",
    "print(y_pred_probs[0])\n",
    "##get's index of the highest value in each row\n",
    "print('Most likely prediction:',torch.argmax(y_pred_probs[0]))"
   ]
  },
  {
   "cell_type": "markdown",
   "metadata": {},
   "source": [
    "Now I'll create a accuracy function in order to take some metrics about our network's performance."
   ]
  },
  {
   "cell_type": "code",
   "execution_count": 34,
   "metadata": {},
   "outputs": [],
   "source": [
    "# Calculate accuracy (a classification metric)\n",
    "def accuracy_fn(y_true, y_pred):\n",
    "    correct = torch.eq(y_true, y_pred).sum().item() # torch.eq() calculates where two tensors are equal\n",
    "    acc = (correct / len(y_pred)) * 100\n",
    "    return acc"
   ]
  },
  {
   "cell_type": "code",
   "execution_count": 35,
   "metadata": {},
   "outputs": [
    {
     "data": {
      "text/plain": [
       "torch.Size([720, 3])"
      ]
     },
     "metadata": {},
     "output_type": "display_data"
    },
    {
     "data": {
      "text/plain": [
       "torch.Size([720])"
      ]
     },
     "metadata": {},
     "output_type": "display_data"
    },
    {
     "data": {
      "text/plain": [
       "torch.Size([80, 3])"
      ]
     },
     "metadata": {},
     "output_type": "display_data"
    },
    {
     "data": {
      "text/plain": [
       "torch.Size([80])"
      ]
     },
     "metadata": {},
     "output_type": "display_data"
    },
    {
     "data": {
      "text/plain": [
       "torch.Size([80, 2])"
      ]
     },
     "metadata": {},
     "output_type": "display_data"
    }
   ],
   "source": [
    "##Removing undesirable dimensions from y tensors\n",
    "display(X_train.size())\n",
    "y_train = torch.squeeze(y_train)\n",
    "display(y_train.size())\n",
    "display(X_test.size())\n",
    "y_test = torch.squeeze(y_test)\n",
    "display(y_test.size())\n",
    "\n",
    "display(y_logits.size())"
   ]
  },
  {
   "cell_type": "markdown",
   "metadata": {},
   "source": [
    "## 7. Train our Model\n",
    "\n",
    "Here we'll train our model and compute the accuracy and loss for train and test datasets across the epochs."
   ]
  },
  {
   "cell_type": "code",
   "execution_count": 36,
   "metadata": {},
   "outputs": [],
   "source": [
    "\n",
    "# Set number of epochs\n",
    "epochs = 500\n",
    "\n",
    "##Generations before each results print\n",
    "gen_print = 25\n",
    "\n",
    "##set arrays for accuracy and loss\n",
    "\n",
    "train_loss_time = []\n",
    "train_acc_time = []\n",
    "\n",
    "test_loss_time = []\n",
    "test_acc_time = []\n",
    "\n",
    "Generation = []\n",
    "\n",
    "cont = 0\n",
    "\n",
    "# Put data to target device\n",
    "X_train, y_train = X_train.to(device), y_train.to(device)\n",
    "X_test, y_test = X_test.to(device), y_test.to(device)\n",
    "\n",
    "for epoch in range(epochs):\n",
    "\n",
    "    cont = cont +1\n",
    "\n",
    "    ### Training\n",
    "    model_4.train()\n",
    "\n",
    "    # 1. Forward pass\n",
    "    y_logits = model_4(X_train) # model outputs raw logits\n",
    "    y_pred = torch.softmax(y_logits, dim=1).argmax(dim=1) # go from logits -> prediction probabilities -> prediction labels\n",
    "    ##print(y_logits)\n",
    "    # 2. Calculate loss and accuracy\n",
    "    loss = loss_fn(y_logits, y_train.long())\n",
    "    acc = accuracy_fn(y_true=y_train,\n",
    "                        y_pred=y_pred)\n",
    "    \n",
    "\n",
    "    \n",
    "\n",
    "\n",
    "    # 3. Optimizer zero grad\n",
    "    optimizer.zero_grad()\n",
    "\n",
    "    # 4. Loss backwards\n",
    "    loss.backward()\n",
    "\n",
    "    # 5. Optimizer step\n",
    "    optimizer.step()\n",
    "\n",
    "    ### Testing\n",
    "    model_4.eval()\n",
    "\n",
    "    \n",
    "\n",
    "    with torch.inference_mode():\n",
    "        # 1. Forward pass\n",
    "        test_logits = model_4(X_test)\n",
    "        test_pred = torch.softmax(test_logits, dim=1).argmax(dim=1)\n",
    "        \n",
    "        # 2. Calculate test loss and accuracy\n",
    "        test_loss = loss_fn(test_logits, y_test.long())\n",
    "        test_acc = accuracy_fn(y_true=y_test,\n",
    "                            y_pred=test_pred)\n",
    "        \n",
    "        ##Getting Loss for viz\n",
    "        loss_train = loss_fn(y_logits, y_train.long())\n",
    "        \n",
    "\n",
    "        \n",
    "\n",
    "    # Print out what's happening and gather data for viz\n",
    "    if epoch % gen_print == 0:\n",
    "        ##append epoch \n",
    "        Generation.append(epoch)\n",
    "        test_loss_time.append(test_loss)\n",
    "        test_acc_time.append(test_acc)\n",
    "        train_loss_time.append(loss_train)\n",
    "        train_acc_time.append(acc)\n",
    "\n",
    "        ##print(f\"Epoch: {epoch} | Loss: {loss:.5f}, Acc: {acc:.2f}% | Test Loss: {test_loss:.5f}, Test Acc: {test_acc:.2f}%\")"
   ]
  },
  {
   "cell_type": "markdown",
   "metadata": {},
   "source": []
  },
  {
   "cell_type": "markdown",
   "metadata": {},
   "source": [
    "## 8. Analyse the Model Performance\n",
    "\n",
    "Ok, let's look at some metrics of our model now."
   ]
  },
  {
   "cell_type": "markdown",
   "metadata": {},
   "source": [
    "First of all, let's print our accuracy an loss per epoch."
   ]
  },
  {
   "cell_type": "code",
   "execution_count": 37,
   "metadata": {},
   "outputs": [
    {
     "name": "stdout",
     "output_type": "stream",
     "text": [
      "Here we can see that we have a big loss reduction throughout generations.\n",
      "\n",
      "We also have a big accuracy improvement, which stays above 80%.\n",
      "\n",
      "This indicates that our model is good at making the predictions\n",
      "\n"
     ]
    },
    {
     "data": {
      "image/png": "[encoded data removed]",
      "text/plain": [
       "<Figure size 800x400 with 2 Axes>"
      ]
     },
     "metadata": {},
     "output_type": "display_data"
    }
   ],
   "source": [
    "##Here We'll create and analyse the viz\n",
    "\n",
    "print('Here we can see that we have a big loss reduction throughout generations.\\n')\n",
    "print('We also have a big accuracy improvement, which stays above 80%.\\n')\n",
    "print('This indicates that our model is good at making the predictions\\n')\n",
    "\n",
    "\n",
    "##Creating figure and plots\n",
    "\n",
    "x = np.arange(len(Generation))\n",
    "\n",
    "fig, ax = plt.subplots(1,2,figsize=(8,4))\n",
    "\n",
    "\n",
    "ax[0].plot(test_loss_time,color='green',linewidth=2)\n",
    "ax[0].plot(train_loss_time,color='red',linewidth=2,linestyle='--')\n",
    "ax[0].set_xticks(x)\n",
    "ax[0].set_xticklabels(Generation, rotation = 'vertical')\n",
    "ax[0].set_title('Loss Through Epochs')\n",
    "ax[0].set_ylabel('Loss')\n",
    "ax[0].set_xlabel('Epochs')\n",
    "ax[0].legend(['Test','Train'])\n",
    "\n",
    "ax[1].plot(test_acc_time,color='green', linewidth=2)\n",
    "ax[1].plot(train_acc_time,color='red',linewidth=2,linestyle='--')\n",
    "\n",
    "ax[1].set_xticks(x)\n",
    "ax[1].set_xticklabels(Generation, rotation = 'vertical')\n",
    "ax[1].set_title('Accuracy Through Epochs')\n",
    "ax[1].set_ylabel('Accuracy')\n",
    "ax[1].set_xlabel('Epochs')\n",
    "ax[1].legend(['Test','Train'])\n",
    "\n",
    "plt.show()"
   ]
  },
  {
   "cell_type": "markdown",
   "metadata": {},
   "source": [
    "I'd also like to generate a confuse matrix about our test set."
   ]
  },
  {
   "cell_type": "code",
   "execution_count": 38,
   "metadata": {},
   "outputs": [
    {
     "name": "stdout",
     "output_type": "stream",
     "text": [
      "Confusion matrix:\n",
      "\n",
      " [[77  1]\n",
      " [ 2  0]]\n",
      "\n",
      "Here we see that we have 74 true positives (main diagonal) against 6 false positives, which represents 92,5% of the predictions as being correct!!\n",
      "\n",
      "So, its safe to say that we have a good model.\n"
     ]
    }
   ],
   "source": [
    "## Generating predictions on test set\n",
    "\n",
    "with torch.inference_mode():\n",
    "        \n",
    "        logits = model_4(X_test)\n",
    "        y_tot_pred = torch.softmax(logits, dim=1).argmax(dim=1)\n",
    "        \n",
    "##Plotting confusion matrix against true values\n",
    "\n",
    "cm = confusion_matrix(y_test, y_tot_pred)\n",
    "\n",
    "print('Confusion matrix:\\n\\n', cm)\n",
    "\n",
    "print('\\nHere we see that we have 74 true positives (main diagonal) against 6 false positives, which represents 92,5% of the predictions as being correct!!\\n\\nSo, it''s safe to say that we have a good model.')"
   ]
  }
 ],
 "metadata": {
  "kernelspec": {
   "display_name": "Python 3",
   "language": "python",
   "name": "python3"
  },
  "language_info": {
   "codemirror_mode": {
    "name": "ipython",
    "version": 3
   },
   "file_extension": ".py",
   "mimetype": "text/x-python",
   "name": "python",
   "nbconvert_exporter": "python",
   "pygments_lexer": "ipython3",
   "version": "3.11.6"
  },
  "orig_nbformat": 4
 },
 "nbformat": 4,
 "nbformat_minor": 2
}
