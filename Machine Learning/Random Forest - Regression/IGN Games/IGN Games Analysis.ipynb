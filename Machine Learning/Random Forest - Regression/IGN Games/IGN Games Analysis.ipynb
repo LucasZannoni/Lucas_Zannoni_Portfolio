{
 "cells": [
  {
   "cell_type": "markdown",
   "metadata": {},
   "source": [
    "Hello!!\n",
    "\n",
    "In this analysis i'll use a game database from IGN and try to predict if the game score.\n",
    "\n",
    "For making this prediction I'll be using a random forest - Regression algorithm with the sklearn library.\n",
    "\n",
    "I'll start with a exploratory Analysis and then proceed to the regression and estimation of values."
   ]
  },
  {
   "cell_type": "markdown",
   "metadata": {},
   "source": [
    "What is Random Forest Regression?\n",
    "\n",
    "Random Forest Regression algorithms are a class of Machine Learning algorithms that use the combination of multiple random decision trees each trained on a subset of data. The use of multiple trees gives stability to the algorithm and reduces variance. The random forest regression algorithm is a commonly used model due to its ability to work well for large and most kinds of data."
   ]
  },
  {
   "cell_type": "markdown",
   "metadata": {},
   "source": [
    "1. IMPORTING LIBRARIES"
   ]
  },
  {
   "cell_type": "code",
   "execution_count": 12,
   "metadata": {},
   "outputs": [],
   "source": [
    "##Importing Libraries\n",
    "\n",
    "import numpy as np\n",
    "import pandas as pd\n",
    "import seaborn as sns\n",
    "\n",
    "import matplotlib.pyplot as plt\n",
    "%matplotlib inline\n",
    "import warnings\n",
    "warnings.filterwarnings('ignore')\n",
    "from pandasql import sqldf\n",
    "\n",
    "from sklearn.model_selection import train_test_split\n",
    "import category_encoders as ce\n",
    "from sklearn.ensemble import RandomForestRegressor\n",
    "from sklearn.tree import DecisionTreeClassifier\n",
    "from sklearn.metrics import accuracy_score\n",
    "from sklearn.metrics import mean_squared_error\n",
    "from sklearn import tree\n",
    "\n",
    "from sklearn.metrics import confusion_matrix\n",
    "\n",
    "from sklearn.metrics import classification_report"
   ]
  },
  {
   "cell_type": "markdown",
   "metadata": {},
   "source": [
    "2. DEFINING MAIN DATABASE"
   ]
  },
  {
   "cell_type": "code",
   "execution_count": 13,
   "metadata": {},
   "outputs": [
    {
     "data": {
      "text/html": [
       "<div>\n",
       "<style scoped>\n",
       "    .dataframe tbody tr th:only-of-type {\n",
       "        vertical-align: middle;\n",
       "    }\n",
       "\n",
       "    .dataframe tbody tr th {\n",
       "        vertical-align: top;\n",
       "    }\n",
       "\n",
       "    .dataframe thead th {\n",
       "        text-align: right;\n",
       "    }\n",
       "</style>\n",
       "<table border=\"1\" class=\"dataframe\">\n",
       "  <thead>\n",
       "    <tr style=\"text-align: right;\">\n",
       "      <th></th>\n",
       "      <th>score_phrase</th>\n",
       "      <th>title</th>\n",
       "      <th>url</th>\n",
       "      <th>platform</th>\n",
       "      <th>score</th>\n",
       "      <th>genre</th>\n",
       "      <th>editors_choice</th>\n",
       "      <th>release_year</th>\n",
       "      <th>release_month</th>\n",
       "      <th>release_day</th>\n",
       "    </tr>\n",
       "  </thead>\n",
       "  <tbody>\n",
       "    <tr>\n",
       "      <th>0</th>\n",
       "      <td>Amazing</td>\n",
       "      <td>LittleBigPlanet PS Vita</td>\n",
       "      <td>/games/littlebigplanet-vita/vita-98907</td>\n",
       "      <td>PlayStation Vita</td>\n",
       "      <td>9.0</td>\n",
       "      <td>Platformer</td>\n",
       "      <td>Y</td>\n",
       "      <td>2012</td>\n",
       "      <td>9</td>\n",
       "      <td>12</td>\n",
       "    </tr>\n",
       "    <tr>\n",
       "      <th>1</th>\n",
       "      <td>Amazing</td>\n",
       "      <td>LittleBigPlanet PS Vita -- Marvel Super Hero E...</td>\n",
       "      <td>/games/littlebigplanet-ps-vita-marvel-super-he...</td>\n",
       "      <td>PlayStation Vita</td>\n",
       "      <td>9.0</td>\n",
       "      <td>Platformer</td>\n",
       "      <td>Y</td>\n",
       "      <td>2012</td>\n",
       "      <td>9</td>\n",
       "      <td>12</td>\n",
       "    </tr>\n",
       "    <tr>\n",
       "      <th>2</th>\n",
       "      <td>Great</td>\n",
       "      <td>Splice: Tree of Life</td>\n",
       "      <td>/games/splice/ipad-141070</td>\n",
       "      <td>iPad</td>\n",
       "      <td>8.5</td>\n",
       "      <td>Puzzle</td>\n",
       "      <td>N</td>\n",
       "      <td>2012</td>\n",
       "      <td>9</td>\n",
       "      <td>12</td>\n",
       "    </tr>\n",
       "    <tr>\n",
       "      <th>3</th>\n",
       "      <td>Great</td>\n",
       "      <td>NHL 13</td>\n",
       "      <td>/games/nhl-13/xbox-360-128182</td>\n",
       "      <td>Xbox 360</td>\n",
       "      <td>8.5</td>\n",
       "      <td>Sports</td>\n",
       "      <td>N</td>\n",
       "      <td>2012</td>\n",
       "      <td>9</td>\n",
       "      <td>11</td>\n",
       "    </tr>\n",
       "    <tr>\n",
       "      <th>4</th>\n",
       "      <td>Great</td>\n",
       "      <td>NHL 13</td>\n",
       "      <td>/games/nhl-13/ps3-128181</td>\n",
       "      <td>PlayStation 3</td>\n",
       "      <td>8.5</td>\n",
       "      <td>Sports</td>\n",
       "      <td>N</td>\n",
       "      <td>2012</td>\n",
       "      <td>9</td>\n",
       "      <td>11</td>\n",
       "    </tr>\n",
       "  </tbody>\n",
       "</table>\n",
       "</div>"
      ],
      "text/plain": [
       "  score_phrase                                              title  \\\n",
       "0      Amazing                            LittleBigPlanet PS Vita   \n",
       "1      Amazing  LittleBigPlanet PS Vita -- Marvel Super Hero E...   \n",
       "2        Great                               Splice: Tree of Life   \n",
       "3        Great                                             NHL 13   \n",
       "4        Great                                             NHL 13   \n",
       "\n",
       "                                                 url          platform  score  \\\n",
       "0             /games/littlebigplanet-vita/vita-98907  PlayStation Vita    9.0   \n",
       "1  /games/littlebigplanet-ps-vita-marvel-super-he...  PlayStation Vita    9.0   \n",
       "2                          /games/splice/ipad-141070              iPad    8.5   \n",
       "3                      /games/nhl-13/xbox-360-128182          Xbox 360    8.5   \n",
       "4                           /games/nhl-13/ps3-128181     PlayStation 3    8.5   \n",
       "\n",
       "        genre editors_choice  release_year  release_month  release_day  \n",
       "0  Platformer              Y          2012              9           12  \n",
       "1  Platformer              Y          2012              9           12  \n",
       "2      Puzzle              N          2012              9           12  \n",
       "3      Sports              N          2012              9           11  \n",
       "4      Sports              N          2012              9           11  "
      ]
     },
     "metadata": {},
     "output_type": "display_data"
    }
   ],
   "source": [
    "##Here I'll import my main dataset\n",
    "\n",
    "df =  pd.read_csv('ign.csv',encoding='utf-8', sep=',', header=0)\n",
    "\n",
    "df = df.drop('Unnamed: 0', axis='columns')\n",
    "\n",
    "display(df.head())"
   ]
  },
  {
   "cell_type": "markdown",
   "metadata": {},
   "source": [
    "3. EXPLORATORY ANALYSIS\n",
    "\n",
    "Here i'll try to gain some insight into the data."
   ]
  },
  {
   "cell_type": "code",
   "execution_count": 14,
   "metadata": {},
   "outputs": [
    {
     "name": "stdout",
     "output_type": "stream",
     "text": [
      "First of all ill make some distribution plots in order to better understand how our data is scattered in the main collumns.\n"
     ]
    },
    {
     "data": {
      "image/png": "[encoded data removed]",
      "text/plain": [
       "<Figure size 800x1000 with 5 Axes>"
      ]
     },
     "metadata": {},
     "output_type": "display_data"
    }
   ],
   "source": [
    "##First of all i'll make some distribution plots in order to better understand how our data is scattered in the main collumns.\n",
    "\n",
    "print('First of all i''ll make some distribution plots in order to better understand how our data is scattered in the main collumns.')\n",
    "\n",
    "col_names = ['score_phrase', 'platform', 'genre', 'release_year', 'release_month']\n",
    "\n",
    "n = len(col_names)\n",
    "fig, ax = plt.subplots(n,1,figsize=(8,2*n))\n",
    "fig.tight_layout()\n",
    "width = 0.5\n",
    "cont = 0\n",
    "\n",
    "for col in col_names:\n",
    "    \n",
    "    count_list = df[col].value_counts().tolist()[:5]\n",
    "    keys_list =  df[col].value_counts().keys().tolist()[:5]\n",
    "\n",
    "    \n",
    "    x = np.arange(len(count_list))\n",
    "    \n",
    "    ax[cont].bar(x, count_list, width/2)\n",
    "    ax[cont].set_xticks(x,keys_list , rotation ='horizontal')\n",
    "    ax[cont].set_title('count - '+col)\n",
    "\n",
    "    cont = cont+1"
   ]
  },
  {
   "cell_type": "markdown",
   "metadata": {},
   "source": [
    "Here we can see that we have unneven distributions for each category with many entries. We can also observe the top registers on each category.\n",
    "\n",
    "Many of these categories is not continuous numbers, so we'll need to convert them to numerical values, so we can use them in our analysis."
   ]
  },
  {
   "cell_type": "markdown",
   "metadata": {},
   "source": [
    "4. PREPARING DATA\n",
    "\n",
    "Now we'll prepare the test and train datasets in order to use them into our regression model."
   ]
  },
  {
   "cell_type": "code",
   "execution_count": 15,
   "metadata": {},
   "outputs": [],
   "source": [
    "## Defining dependent and independent variables\n",
    "\n",
    "##first of all let's drop the columns we'll not use in the analysis\n",
    "\n",
    "x = df.drop(['score','title','url'], axis = 1) # Features\n",
    "y = df['score']  # Target"
   ]
  },
  {
   "cell_type": "code",
   "execution_count": 16,
   "metadata": {},
   "outputs": [],
   "source": [
    "# Splitting the dataset into training and testing set (80/20)\n",
    "x_train, x_test, y_train, y_test = train_test_split(x, y, test_size = 0.3)"
   ]
  },
  {
   "cell_type": "code",
   "execution_count": 17,
   "metadata": {},
   "outputs": [
    {
     "name": "stdout",
     "output_type": "stream",
     "text": [
      "Below we can see a part of the test dataset:\n"
     ]
    },
    {
     "data": {
      "text/html": [
       "<div>\n",
       "<style scoped>\n",
       "    .dataframe tbody tr th:only-of-type {\n",
       "        vertical-align: middle;\n",
       "    }\n",
       "\n",
       "    .dataframe tbody tr th {\n",
       "        vertical-align: top;\n",
       "    }\n",
       "\n",
       "    .dataframe thead th {\n",
       "        text-align: right;\n",
       "    }\n",
       "</style>\n",
       "<table border=\"1\" class=\"dataframe\">\n",
       "  <thead>\n",
       "    <tr style=\"text-align: right;\">\n",
       "      <th></th>\n",
       "      <th>score_phrase</th>\n",
       "      <th>platform</th>\n",
       "      <th>genre</th>\n",
       "      <th>editors_choice</th>\n",
       "      <th>release_year</th>\n",
       "      <th>release_month</th>\n",
       "      <th>release_day</th>\n",
       "    </tr>\n",
       "  </thead>\n",
       "  <tbody>\n",
       "    <tr>\n",
       "      <th>12680</th>\n",
       "      <td>7</td>\n",
       "      <td>15.0</td>\n",
       "      <td>27.0</td>\n",
       "      <td>1</td>\n",
       "      <td>2009</td>\n",
       "      <td>3</td>\n",
       "      <td>18</td>\n",
       "    </tr>\n",
       "    <tr>\n",
       "      <th>7698</th>\n",
       "      <td>2</td>\n",
       "      <td>5.0</td>\n",
       "      <td>11.0</td>\n",
       "      <td>1</td>\n",
       "      <td>2006</td>\n",
       "      <td>2</td>\n",
       "      <td>15</td>\n",
       "    </tr>\n",
       "    <tr>\n",
       "      <th>10054</th>\n",
       "      <td>5</td>\n",
       "      <td>15.0</td>\n",
       "      <td>8.0</td>\n",
       "      <td>1</td>\n",
       "      <td>2007</td>\n",
       "      <td>10</td>\n",
       "      <td>30</td>\n",
       "    </tr>\n",
       "    <tr>\n",
       "      <th>2153</th>\n",
       "      <td>8</td>\n",
       "      <td>20.0</td>\n",
       "      <td>4.0</td>\n",
       "      <td>1</td>\n",
       "      <td>2000</td>\n",
       "      <td>5</td>\n",
       "      <td>25</td>\n",
       "    </tr>\n",
       "    <tr>\n",
       "      <th>7252</th>\n",
       "      <td>2</td>\n",
       "      <td>14.0</td>\n",
       "      <td>23.0</td>\n",
       "      <td>1</td>\n",
       "      <td>2005</td>\n",
       "      <td>10</td>\n",
       "      <td>28</td>\n",
       "    </tr>\n",
       "  </tbody>\n",
       "</table>\n",
       "</div>"
      ],
      "text/plain": [
       "       score_phrase  platform  genre  editors_choice  release_year  \\\n",
       "12680             7      15.0   27.0               1          2009   \n",
       "7698              2       5.0   11.0               1          2006   \n",
       "10054             5      15.0    8.0               1          2007   \n",
       "2153              8      20.0    4.0               1          2000   \n",
       "7252              2      14.0   23.0               1          2005   \n",
       "\n",
       "       release_month  release_day  \n",
       "12680              3           18  \n",
       "7698               2           15  \n",
       "10054             10           30  \n",
       "2153               5           25  \n",
       "7252              10           28  "
      ]
     },
     "metadata": {},
     "output_type": "display_data"
    }
   ],
   "source": [
    "# Ok, now let's encode categorical variables with ordinal encoding\n",
    "\n",
    "encoder = ce.OrdinalEncoder(cols=['score_phrase', 'platform', 'genre', 'editors_choice'])\n",
    "\n",
    "\n",
    "x_train = encoder.fit_transform(x_train)\n",
    "\n",
    "x_test = encoder.transform(x_test)\n",
    "\n",
    "\n",
    "print('Below we can see a part of the test dataset:')\n",
    "\n",
    "display(x_test.head())"
   ]
  },
  {
   "cell_type": "markdown",
   "metadata": {},
   "source": [
    "5. TRAINING AND RUNNING MODEL\n",
    "\n",
    "With our dataset ready, we can make our model fit and take some metrics from it in order to measure its eficiency."
   ]
  },
  {
   "cell_type": "code",
   "execution_count": 18,
   "metadata": {},
   "outputs": [
    {
     "name": "stdout",
     "output_type": "stream",
     "text": [
      "Now we have our model ready for the predictions.\n"
     ]
    }
   ],
   "source": [
    "# Initializing the Random Forest Regression model with 30 decision trees\n",
    "model = RandomForestRegressor(n_estimators = 100)\n",
    "\n",
    "# Fitting the Random Forest Regression model to the data\n",
    "model.fit(x_train, y_train)\n",
    "\n",
    "print('Now we have our model ready for the predictions.')\n"
   ]
  },
  {
   "cell_type": "markdown",
   "metadata": {},
   "source": [
    "Now let's use our test base to make some predictions!!\n",
    "\n",
    "We'll use these predictions to compare with the y_test later, so we can get our metrics and see how our model is performing."
   ]
  },
  {
   "cell_type": "code",
   "execution_count": 19,
   "metadata": {},
   "outputs": [
    {
     "name": "stdout",
     "output_type": "stream",
     "text": [
      "Now that we have our model trained and made some predictions, lets take the mean square root error, so we can measure how precise our model is.\n",
      "\n",
      "This measure is a representation of the average error across all dataset, considering all the measures in the test set.\n",
      "\n",
      "RMSE:  0.276\n",
      "\n",
      "We can also compare our RMSE to the mean value of our target. A good measure is that this fraction, when lower than 5%, means that the model is quite good at estimating the desired values.\n",
      "\n",
      "RMSE/(Mean Score Value):  3.99 %\n",
      "\n",
      "We can see here that our fraction represents a good measure.\n"
     ]
    }
   ],
   "source": [
    "# Predicting the target values of the test set\n",
    "y_pred = model.predict(x_test)\n",
    "\n",
    "# RMSE (Root Mean Square Error)\n",
    "##I'll use this measure to have a measure of precision for our predictions\n",
    "\n",
    "print('Now that we have our model trained and made some predictions, let''s take the mean square root error, so we can measure how precise our model is.')\n",
    "print('\\nThis measure is a representation of the average error across all dataset, considering all the measures in the test set.') \n",
    "rmse = float(format(np.sqrt(mean_squared_error(y_test, y_pred)), '.3f'))\n",
    "print(\"\\nRMSE: \", rmse)\n",
    "\n",
    "print('\\nWe can also compare our RMSE to the mean value of our target. A good measure is that this fraction, when lower than 5%, means that the model is quite good at estimating the desired values.')\n",
    "print(\"\\nRMSE/(Mean Score Value): \", round(rmse*100/y_test.mean(),2),'%')\n",
    "\n",
    "print('\\nWe can see here that our fraction represents a good measure.')\n"
   ]
  },
  {
   "cell_type": "markdown",
   "metadata": {},
   "source": [
    "6. POST PROCESSING\n",
    "\n",
    "With our model up and running, we can make some post-processing analysis to gain more insight into the data and the model's capabilities."
   ]
  },
  {
   "cell_type": "markdown",
   "metadata": {},
   "source": [
    "First I'll apply the trained model in all the entries in the dataset and then compare the prediction with the real values."
   ]
  },
  {
   "cell_type": "code",
   "execution_count": 20,
   "metadata": {},
   "outputs": [
    {
     "name": "stdout",
     "output_type": "stream",
     "text": [
      "Here we have a final table with all the original entries plus the prediction values and the difference to the reference (%).\n",
      "\n"
     ]
    },
    {
     "data": {
      "text/html": [
       "<div>\n",
       "<style scoped>\n",
       "    .dataframe tbody tr th:only-of-type {\n",
       "        vertical-align: middle;\n",
       "    }\n",
       "\n",
       "    .dataframe tbody tr th {\n",
       "        vertical-align: top;\n",
       "    }\n",
       "\n",
       "    .dataframe thead th {\n",
       "        text-align: right;\n",
       "    }\n",
       "</style>\n",
       "<table border=\"1\" class=\"dataframe\">\n",
       "  <thead>\n",
       "    <tr style=\"text-align: right;\">\n",
       "      <th></th>\n",
       "      <th>title</th>\n",
       "      <th>score</th>\n",
       "      <th>predicted</th>\n",
       "      <th>Error Percentage</th>\n",
       "    </tr>\n",
       "  </thead>\n",
       "  <tbody>\n",
       "    <tr>\n",
       "      <th>0</th>\n",
       "      <td>LittleBigPlanet PS Vita</td>\n",
       "      <td>9.0</td>\n",
       "      <td>8.24600</td>\n",
       "      <td>8.377778</td>\n",
       "    </tr>\n",
       "    <tr>\n",
       "      <th>1</th>\n",
       "      <td>LittleBigPlanet PS Vita -- Marvel Super Hero E...</td>\n",
       "      <td>9.0</td>\n",
       "      <td>8.24600</td>\n",
       "      <td>8.377778</td>\n",
       "    </tr>\n",
       "    <tr>\n",
       "      <th>2</th>\n",
       "      <td>Splice: Tree of Life</td>\n",
       "      <td>8.5</td>\n",
       "      <td>8.51100</td>\n",
       "      <td>0.129412</td>\n",
       "    </tr>\n",
       "    <tr>\n",
       "      <th>3</th>\n",
       "      <td>NHL 13</td>\n",
       "      <td>8.5</td>\n",
       "      <td>8.50700</td>\n",
       "      <td>0.082353</td>\n",
       "    </tr>\n",
       "    <tr>\n",
       "      <th>4</th>\n",
       "      <td>NHL 13</td>\n",
       "      <td>8.5</td>\n",
       "      <td>8.49800</td>\n",
       "      <td>0.023529</td>\n",
       "    </tr>\n",
       "    <tr>\n",
       "      <th>...</th>\n",
       "      <td>...</td>\n",
       "      <td>...</td>\n",
       "      <td>...</td>\n",
       "      <td>...</td>\n",
       "    </tr>\n",
       "    <tr>\n",
       "      <th>18620</th>\n",
       "      <td>Tokyo Mirage Sessions #FE</td>\n",
       "      <td>7.6</td>\n",
       "      <td>9.16250</td>\n",
       "      <td>20.559211</td>\n",
       "    </tr>\n",
       "    <tr>\n",
       "      <th>18621</th>\n",
       "      <td>LEGO Star Wars: The Force Awakens</td>\n",
       "      <td>9.0</td>\n",
       "      <td>8.40575</td>\n",
       "      <td>6.602778</td>\n",
       "    </tr>\n",
       "    <tr>\n",
       "      <th>18622</th>\n",
       "      <td>Star Ocean: Integrity and Faithlessness</td>\n",
       "      <td>5.8</td>\n",
       "      <td>5.43900</td>\n",
       "      <td>6.224138</td>\n",
       "    </tr>\n",
       "    <tr>\n",
       "      <th>18623</th>\n",
       "      <td>Inside</td>\n",
       "      <td>10.0</td>\n",
       "      <td>5.88900</td>\n",
       "      <td>41.110000</td>\n",
       "    </tr>\n",
       "    <tr>\n",
       "      <th>18624</th>\n",
       "      <td>Inside</td>\n",
       "      <td>10.0</td>\n",
       "      <td>2.71000</td>\n",
       "      <td>72.900000</td>\n",
       "    </tr>\n",
       "  </tbody>\n",
       "</table>\n",
       "<p>18625 rows × 4 columns</p>\n",
       "</div>"
      ],
      "text/plain": [
       "                                                   title  score  predicted  \\\n",
       "0                                LittleBigPlanet PS Vita    9.0    8.24600   \n",
       "1      LittleBigPlanet PS Vita -- Marvel Super Hero E...    9.0    8.24600   \n",
       "2                                   Splice: Tree of Life    8.5    8.51100   \n",
       "3                                                 NHL 13    8.5    8.50700   \n",
       "4                                                 NHL 13    8.5    8.49800   \n",
       "...                                                  ...    ...        ...   \n",
       "18620                          Tokyo Mirage Sessions #FE    7.6    9.16250   \n",
       "18621                  LEGO Star Wars: The Force Awakens    9.0    8.40575   \n",
       "18622            Star Ocean: Integrity and Faithlessness    5.8    5.43900   \n",
       "18623                                             Inside   10.0    5.88900   \n",
       "18624                                             Inside   10.0    2.71000   \n",
       "\n",
       "       Error Percentage  \n",
       "0              8.377778  \n",
       "1              8.377778  \n",
       "2              0.129412  \n",
       "3              0.082353  \n",
       "4              0.023529  \n",
       "...                 ...  \n",
       "18620         20.559211  \n",
       "18621          6.602778  \n",
       "18622          6.224138  \n",
       "18623         41.110000  \n",
       "18624         72.900000  \n",
       "\n",
       "[18625 rows x 4 columns]"
      ]
     },
     "metadata": {},
     "output_type": "display_data"
    },
    {
     "name": "stdout",
     "output_type": "stream",
     "text": [
      "Il also include a distribution plot se we can see where the majority of the values is located.\n",
      "\n"
     ]
    },
    {
     "data": {
      "text/plain": [
       "(0.0, 100.0)"
      ]
     },
     "execution_count": 20,
     "metadata": {},
     "output_type": "execute_result"
    },
    {
     "data": {
      "image/png": "[encoded data removed]",
      "text/plain": [
       "<Figure size 500x500 with 1 Axes>"
      ]
     },
     "metadata": {},
     "output_type": "display_data"
    }
   ],
   "source": [
    "##First, let's encode and run our model again\n",
    "\n",
    "\n",
    "x = encoder.fit_transform(x)\n",
    "\n",
    "y_pred2 = model.predict(x)\n",
    "\n",
    "##Now let's append the prediction column into our dataframe and calculate the difference between prediction and actual value (%)\n",
    "\n",
    "\n",
    "\n",
    "df_test=df[['title','score']]\n",
    "df_test['predicted'] = y_pred2\n",
    "df_test['Error Percentage'] = abs((df_test['score'] - df_test['predicted'])*100/df_test['score'])\n",
    "\n",
    "print('Here we have a final table with all the original entries plus the prediction values and the difference to the reference (%).\\n')\n",
    "display(df_test)\n",
    "\n",
    "print('I''l also include a distribution plot se we can see where the majority of the values is located.\\n')\n",
    "\n",
    "sns.displot(df_test['Error Percentage'])\n",
    "plt.title('Error Percentage Distribution [%]')\n",
    "plt.xlim(0, 100)\n",
    "\n",
    "\n",
    "\n",
    "\n"
   ]
  },
  {
   "cell_type": "markdown",
   "metadata": {},
   "source": [
    "Here I'd also like to get some proportion about the % error, so let's classify the entries into bins and display them."
   ]
  },
  {
   "cell_type": "code",
   "execution_count": 23,
   "metadata": {},
   "outputs": [
    {
     "name": "stdout",
     "output_type": "stream",
     "text": [
      "Once Ive grouped the results per bin, I can display then into a donut plot, so we can have a better understanding about the error range in our dataset predictions:\n",
      "\n",
      "We can see that 47.15 % of the values has had less than 10% in prediction error compared to the original value.\n"
     ]
    },
    {
     "data": {
      "text/plain": [
       "Text(0.5, 1.0, 'Error Distribution [%]')"
      ]
     },
     "execution_count": 23,
     "metadata": {},
     "output_type": "execute_result"
    },
    {
     "data": {
      "image/png": "[encoded data removed]",
      "text/plain": [
       "<Figure size 800x400 with 1 Axes>"
      ]
     },
     "metadata": {},
     "output_type": "display_data"
    }
   ],
   "source": [
    "##Here I'll make a SQL query to classify the results into bins and count the values per bin\n",
    "\n",
    "error_bin_df = sqldf(''' select \n",
    "                        case when abs(score-predicted)*100/score < 10 then '0-10 %'\n",
    "                        when abs(score-predicted)*100/score < 20 then '10-20 %'\n",
    "                        when abs(score-predicted)*100/score < 30 then '20-30 %'\n",
    "                        when abs(score-predicted)*100/score < 50 then '30-50 %' else '50+ %' end as error_bin_label\n",
    "                     \n",
    "                     , count('Error Percentage') as count from df_test group by  error_bin_label order by error_bin_label asc ''')\n",
    "\n",
    "\n",
    "\n",
    "print('Once I''ve grouped the results per bin, I can display then into a donut plot, so we can have a better understanding about the error range in our dataset predictions:\\n')\n",
    "\n",
    "print('We can see that',round(error_bin_df['count'][0]*100/sum(error_bin_df['count']),2),'% of the values has had less than 10% in prediction error compared to the original value.')\n",
    "\n",
    "fig, ax = plt.subplots(1,1,figsize=(8,4))\n",
    "\n",
    "##creates explode array \n",
    "\n",
    "my_explode = [0.05]*len(error_bin_df['count'])\n",
    "\n",
    "\n",
    "##creates pie chart\n",
    "ax.pie(error_bin_df['count'],  labels=error_bin_df['error_bin_label'],autopct='%1.1f%%', pctdistance=0.85,  explode=my_explode)\n",
    "\n",
    "# draw circle\n",
    "centre_circle = plt.Circle((0, 0), 0.70, fc='white')\n",
    "fig1 = plt.gcf()\n",
    "\n",
    "# Adding Circle in Pie chart\n",
    "fig1.gca().add_artist(centre_circle)\n",
    "\n",
    "# Adding Title of chart\n",
    "plt.title('Error Distribution [%]')\n",
    "\n",
    "\n",
    "\n",
    "\n",
    "\n"
   ]
  },
  {
   "cell_type": "markdown",
   "metadata": {},
   "source": [
    "7. RE-ENGINEERING\n",
    "\n",
    "At this point our analysis is complete. If our model was not satisfactory we could look at the feature importance in our model, in order to drop the least important features and optimize our random forest regression.\n",
    "\n",
    "We could also change the number of decision trees used in each forest, but that would come at the cost of heavier computational cost."
   ]
  },
  {
   "cell_type": "markdown",
   "metadata": {},
   "source": [
    "Now, for the sake of curiosity, I'll display the feature importance for this model in a viz."
   ]
  },
  {
   "cell_type": "code",
   "execution_count": 22,
   "metadata": {},
   "outputs": [
    {
     "name": "stdout",
     "output_type": "stream",
     "text": [
      "Lets plot our feature scores so we can see the ones that have the most influence in our model.\n",
      "\n",
      "We can see that our most important features are score_phrase and editors_choice as is listed below.\n",
      "\n"
     ]
    },
    {
     "data": {
      "text/plain": [
       "score_phrase      0.893292\n",
       "editors_choice    0.076953\n",
       "release_day       0.007438\n",
       "genre             0.005806\n",
       "release_year      0.005723\n",
       "platform          0.005723\n",
       "release_month     0.005065\n",
       "dtype: float64"
      ]
     },
     "metadata": {},
     "output_type": "display_data"
    },
    {
     "name": "stdout",
     "output_type": "stream",
     "text": [
      "\n",
      "\n",
      "We can also add a viz to better understand the data.\n",
      "\n"
     ]
    },
    {
     "data": {
      "image/png": "[encoded data removed]",
      "text/plain": [
       "<Figure size 640x480 with 1 Axes>"
      ]
     },
     "metadata": {},
     "output_type": "display_data"
    }
   ],
   "source": [
    "##First of all, let's display our feature importance classification for the 100 tree model\n",
    "\n",
    "feature_scores = pd.Series(model.feature_importances_, index=x_train.columns).sort_values(ascending=False)\n",
    "\n",
    "\n",
    "print('Let''s plot our feature scores so we can see the ones that have the most influence in our model.\\n')\n",
    "print('We can see that our most important features are',feature_scores.index[0],'and',feature_scores.index[1],'as is listed below.\\n')\n",
    "display(feature_scores)\n",
    "\n",
    "print('\\n\\nWe can also add a viz to better understand the data.\\n')\n",
    "\n",
    "##We can also create a visualization in order to better see the info\n",
    "\n",
    "# Creating a seaborn bar plot\n",
    "\n",
    "sns.barplot(x=feature_scores, y=feature_scores.index)\n",
    "\n",
    "\n",
    "\n",
    "# Add labels to the graph\n",
    "\n",
    "plt.xlabel('Feature Importance Score')\n",
    "\n",
    "plt.ylabel('Features')\n",
    "\n",
    "\n",
    "\n",
    "# Add title to the graph\n",
    "\n",
    "plt.title(\"Visualizing Important Features\")\n",
    "\n",
    "\n",
    "\n",
    "# Visualize the graph\n",
    "\n",
    "plt.show()"
   ]
  }
 ],
 "metadata": {
  "kernelspec": {
   "display_name": "Python 3",
   "language": "python",
   "name": "python3"
  },
  "language_info": {
   "codemirror_mode": {
    "name": "ipython",
    "version": 3
   },
   "file_extension": ".py",
   "mimetype": "text/x-python",
   "name": "python",
   "nbconvert_exporter": "python",
   "pygments_lexer": "ipython3",
   "version": "3.11.6"
  },
  "orig_nbformat": 4
 },
 "nbformat": 4,
 "nbformat_minor": 2
}
